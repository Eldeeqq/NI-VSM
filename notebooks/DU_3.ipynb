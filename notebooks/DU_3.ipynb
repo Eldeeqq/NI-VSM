{
 "cells": [
  {
   "cell_type": "markdown",
   "id": "d462e3e9",
   "metadata": {
    "cell_id": "bb9d67f5-74f5-48cf-aab8-8fd5c59764b5",
    "deepnote_app_coordinates": {
     "h": 5,
     "w": 12,
     "x": 0,
     "y": null
    },
    "deepnote_cell_type": "markdown"
   },
   "source": [
    "# NI-VSM 3.DÚ\n",
    "---\n",
    "Jan Peřina  & Zdena Tropková & Matěj Hoffmann\n",
    "\n",
    "---"
   ]
  },
  {
   "cell_type": "code",
   "execution_count": 1,
   "id": "30366c40",
   "metadata": {
    "cell_id": "00002-a9ac9a6b-bbc4-4208-9229-891438799acc",
    "deepnote_app_coordinates": {
     "h": 5,
     "w": 12,
     "x": 0,
     "y": 6
    },
    "deepnote_cell_type": "code",
    "deepnote_to_be_reexecuted": false,
    "execution_millis": 2111,
    "execution_start": 1646064209189,
    "source_hash": "30e45660"
   },
   "outputs": [],
   "source": [
    "import pandas as pd\n",
    "import matplotlib.pyplot as plt\n",
    "import numpy as np\n",
    "from matplotlib import pyplot as plt\n",
    "import plotly.io as pio\n",
    "import scipy\n",
    "import scipy.linalg\n",
    "from plotly import graph_objects as go\n",
    "pd.options.plotting.backend = \"plotly\"\n",
    "\n",
    "pio.renderers.default = \"png\"\n",
    "plt.rcParams['figure.dpi'] = 1000\n",
    "pd.options.display.max_columns = 30"
   ]
  },
  {
   "cell_type": "code",
   "execution_count": 2,
   "id": "f99d937d",
   "metadata": {
    "cell_id": "00003-fe4117cb-f377-4dd1-834d-7fec508aa043",
    "deepnote_app_coordinates": {
     "h": 5,
     "w": 12,
     "x": 0,
     "y": 12
    },
    "deepnote_cell_type": "code",
    "deepnote_to_be_reexecuted": false,
    "execution_millis": 194,
    "execution_start": 1646064211305,
    "source_hash": "d55e6fde"
   },
   "outputs": [
    {
     "name": "stdout",
     "output_type": "stream",
     "text": [
      "Budou použity soubory 001.txt a 004.txt\n"
     ]
    }
   ],
   "source": [
    "K = 30\n",
    "L = len(\"Perina\")\n",
    "X = 1 + (K*L*23 % 20)\n",
    "Y = (X + ((K*5 + L*7) % 19) % 20) + 1\n",
    "xxx = f'{X:03d}.txt'\n",
    "yyy = f'{Y:03d}.txt'\n",
    "print(f\"Budou použity soubory {xxx} a {yyy}\")"
   ]
  },
  {
   "cell_type": "markdown",
   "id": "32441c95",
   "metadata": {
    "cell_id": "00004-5a8ea509-7309-4630-b461-424b3b519aff",
    "deepnote_app_coordinates": {
     "h": 5,
     "w": 12,
     "x": 0,
     "y": 18
    },
    "deepnote_cell_type": "markdown"
   },
   "source": [
    "## Načtení souborů"
   ]
  },
  {
   "cell_type": "code",
   "execution_count": 3,
   "id": "73993855",
   "metadata": {
    "cell_id": "00005-576d5b2e-b8e0-4c87-88a0-b30911993fbc",
    "deepnote_app_coordinates": {
     "h": 5,
     "w": 12,
     "x": 0,
     "y": 24
    },
    "deepnote_cell_type": "code",
    "deepnote_to_be_reexecuted": false,
    "execution_millis": 177,
    "execution_start": 1646064211323,
    "source_hash": "5e86cc3a"
   },
   "outputs": [
    {
     "name": "stdout",
     "output_type": "stream",
     "text": [
      "Délka prvního textu: 6458\n",
      "Délka druhého textu: 5607\n"
     ]
    }
   ],
   "source": [
    "with open(f'../data/{xxx}', 'r') as f:\n",
    "    f.readline()  # nadpis ignorujeme\n",
    "    first = f.read()\n",
    "    print(f'Délka prvního textu: {len(first)}')\n",
    "\n",
    "with open(f'../data/{yyy}', 'r') as f:\n",
    "    f.readline()\n",
    "    second = f.read()\n",
    "    print(f'Délka druhého textu: {len(second)}')"
   ]
  },
  {
   "cell_type": "markdown",
   "id": "8e5797e6",
   "metadata": {
    "cell_id": "0af3b56e-1fbf-4209-9f76-3ea6b5060789",
    "deepnote_cell_type": "markdown",
    "tags": []
   },
   "source": [
    "## Spočtení pravděpodobností"
   ]
  },
  {
   "cell_type": "markdown",
   "id": "d6ed212b",
   "metadata": {
    "cell_id": "00006-0c30bd3a-5367-4453-953b-c44a8112c7a5",
    "deepnote_app_coordinates": {
     "h": 5,
     "w": 12,
     "x": 0,
     "y": 30
    },
    "deepnote_cell_type": "markdown"
   },
   "source": [
    "Pravděpodobnost spočteme jako počet výskytů daného znaku v textu děleno počtem znaků v textu, tedy jeho délky.\n",
    "\n",
    "\n",
    "$$ \n",
    "\\text{p}(x,t)= \\frac{\\# \\text{ výskytů znaku }x\\text{ v textu }t}{\\# \\text{ znaku v textu }t} \n",
    "$$"
   ]
  },
  {
   "cell_type": "code",
   "execution_count": 4,
   "id": "ebf693bc",
   "metadata": {
    "cell_id": "00007-a1179772-289a-47ed-a185-a4d09e7469de",
    "deepnote_app_coordinates": {
     "h": 5,
     "w": 12,
     "x": 0,
     "y": 36
    },
    "deepnote_cell_type": "code",
    "deepnote_to_be_reexecuted": false,
    "execution_millis": 7,
    "execution_start": 1646064211348,
    "source_hash": "1c5de07d"
   },
   "outputs": [],
   "source": [
    "def count_letters(text):\n",
    "    counts = {}\n",
    "\n",
    "    for x in text:\n",
    "        if x not in counts:\n",
    "            counts[x] = 1\n",
    "        else:\n",
    "            counts[x] += 1\n",
    "\n",
    "    df = pd.DataFrame.from_dict(counts, orient='index', columns=['counts'])\n",
    "    df['freq'] = df['counts'] / len(text)\n",
    "    df.sort_values(by=['freq'], ascending=False, inplace=True)\n",
    "    df.index = df.index.rename('znak')\n",
    "\n",
    "    return df"
   ]
  },
  {
   "cell_type": "code",
   "execution_count": 5,
   "id": "cc7f7aad",
   "metadata": {
    "cell_id": "00008-5c7916bb-31a0-4c85-9bb3-8e4248081ed5",
    "deepnote_app_coordinates": {
     "h": 5,
     "w": 12,
     "x": 0,
     "y": 42
    },
    "deepnote_cell_type": "code",
    "deepnote_to_be_reexecuted": false,
    "execution_millis": 24,
    "execution_start": 1646064519078,
    "source_hash": "14ae034d"
   },
   "outputs": [
    {
     "name": "stdout",
     "output_type": "stream",
     "text": [
      "znak            e    a    t    o    n    r    h    d    i    s    l    u    g  \\\n",
      "counts  1199  659  438  436  399  355  350  337  303  297  291  249  159  141   \n",
      "\n",
      "znak      f    w    m    c   b   p   y   k   v   j  q  z  x  \n",
      "counts  137  117  109  102  96  91  83  52  30  15  6  6  1  \n"
     ]
    }
   ],
   "source": [
    "# první text\n",
    "df_first = count_letters(first)\n",
    "print(df_first[['counts']].T)"
   ]
  },
  {
   "cell_type": "code",
   "execution_count": 6,
   "id": "b7269e32",
   "metadata": {
    "cell_id": "49e0b24d-5f7d-4b4d-86cc-1a62c6aef846",
    "deepnote_app_coordinates": {
     "h": 5,
     "w": 12,
     "x": 0,
     "y": 252
    },
    "deepnote_cell_type": "code",
    "deepnote_to_be_reexecuted": false,
    "execution_millis": 27,
    "execution_start": 1646064496394,
    "source_hash": "dfb59066",
    "tags": []
   },
   "outputs": [
    {
     "name": "stdout",
     "output_type": "stream",
     "text": [
      "znak            e    t    a    o    h    n    i    r    s    d    l    u    f  \\\n",
      "counts  1029  577  409  384  355  316  310  307  295  284  209  173  129  129   \n",
      "\n",
      "znak      c    w   g   m   p   y   b   v   k   j  q  z  x  \n",
      "counts  124  117  94  80  72  60  55  37  30  13  8  7  4  \n"
     ]
    }
   ],
   "source": [
    "# druhý text\n",
    "df_second = count_letters(second)\n",
    "print(df_second[['counts']].T)"
   ]
  },
  {
   "cell_type": "markdown",
   "id": "0c03bbb5",
   "metadata": {
    "cell_id": "b3fb456a-ef1c-4bed-aefd-19bbd4620991",
    "deepnote_cell_type": "markdown",
    "tags": []
   },
   "source": [
    "## Vizualizace pravděpodobností"
   ]
  },
  {
   "cell_type": "markdown",
   "id": "e02e18de",
   "metadata": {
    "cell_id": "00009-250d6a30-8e21-4862-a8b4-05b9634105b5",
    "deepnote_app_coordinates": {
     "h": 5,
     "w": 12,
     "x": 0,
     "y": 48
    },
    "deepnote_cell_type": "markdown"
   },
   "source": [
    "Jednotlivé pravděpodobnosti nyní zobrazíme pomocí sloupcového grafu, osa y reprezentuje pravděpodobnost znaku v textu. Osa X je diskrétní a reprezentuje jednotlivé znaky seřazené od nejčetnějšího po ten nejméně četný."
   ]
  },
  {
   "cell_type": "code",
   "execution_count": 7,
   "id": "b7dca563",
   "metadata": {
    "cell_id": "00010-7c7ea7e4-a879-4ab8-9586-0376173a6201",
    "deepnote_app_coordinates": {
     "h": 5,
     "w": 12,
     "x": 0,
     "y": 54
    },
    "deepnote_cell_type": "code",
    "deepnote_to_be_reexecuted": false,
    "execution_millis": 816,
    "execution_start": 1646064211438,
    "source_hash": "b3134cc2"
   },
   "outputs": [
    {
     "data": {
      "image/png": "[encoded data removed]"
     },
     "metadata": {},
     "output_type": "display_data"
    }
   ],
   "source": [
    "df_first['freq'].rename('Pravděpodobnost').plot(\n",
    "    kind='bar', title=\"Pravděpodobnosti znaků v prvním textu\")"
   ]
  },
  {
   "cell_type": "markdown",
   "id": "3e2b57ed",
   "metadata": {
    "cell_id": "9320cd4b-a554-46fe-88e5-a13e7eb3bb30",
    "deepnote_cell_type": "markdown",
    "tags": []
   },
   "source": [
    "Jak je vidět, tak znakem s největší pravděpodobností je mezera, následně znaky `e`, `a` a `t`. Nejméně pravděpodobné naopak byly znaky `q`, `z` a `x`."
   ]
  },
  {
   "cell_type": "markdown",
   "id": "b996b618",
   "metadata": {
    "cell_id": "00011-f44fb145-4a3d-4860-9685-f7c4d2037b31",
    "deepnote_app_coordinates": {
     "h": 5,
     "w": 12,
     "x": 0,
     "y": 60
    },
    "deepnote_cell_type": "markdown"
   },
   "source": [
    "Obdobně jsme zvizualizovali hodnoty pro druhý text."
   ]
  },
  {
   "cell_type": "code",
   "execution_count": 8,
   "id": "396f5b88",
   "metadata": {
    "cell_id": "00012-2be776be-d6c5-4072-91c3-969cec8c7397",
    "deepnote_app_coordinates": {
     "h": 5,
     "w": 12,
     "x": 0,
     "y": 66
    },
    "deepnote_cell_type": "code",
    "deepnote_to_be_reexecuted": false,
    "execution_millis": 122,
    "execution_start": 1646064212260,
    "source_hash": "5850716f"
   },
   "outputs": [
    {
     "data": {
      "image/png": "[encoded data removed]"
     },
     "metadata": {},
     "output_type": "display_data"
    }
   ],
   "source": [
    "df_second['freq'].rename('Pravděpodobnost').plot(\n",
    "    kind='bar', title=\"Pravděpodobnosti znaků v druhém textu\")"
   ]
  },
  {
   "cell_type": "markdown",
   "id": "df5b8da2",
   "metadata": {
    "cell_id": "048a109d-f67c-4a36-ba7f-67c6c04b405e",
    "deepnote_cell_type": "markdown",
    "tags": []
   },
   "source": [
    "Z grafu je vidět, že opět byla nejčastější mezera, hned po ní opět trojice `e`, `a`, `t` (v jiném pořadí) a nejméně četné byly opět znaky `q`,`z` a `x`."
   ]
  },
  {
   "cell_type": "markdown",
   "id": "9390ec87",
   "metadata": {
    "cell_id": "49671e61-28dc-4e5a-a2da-0960d7dc640d",
    "deepnote_cell_type": "markdown",
    "tags": []
   },
   "source": [
    "Na základě této podobnosti jsme se rozhodli vykreslit graf pravděpodobností jednotlivých znaků pro oba texty. "
   ]
  },
  {
   "cell_type": "code",
   "execution_count": 9,
   "id": "3a4702ea",
   "metadata": {
    "cell_id": "00013-89645518-be2c-47b0-9677-695b6ca0b35b",
    "deepnote_app_coordinates": {
     "h": 5,
     "w": 12,
     "x": 0,
     "y": 72
    },
    "deepnote_cell_type": "code",
    "deepnote_to_be_reexecuted": false,
    "execution_millis": 137,
    "execution_start": 1646064212387,
    "source_hash": "a05278ca"
   },
   "outputs": [
    {
     "data": {
      "image/png": "[encoded data removed]"
     },
     "metadata": {},
     "output_type": "display_data"
    }
   ],
   "source": [
    "c = df_first[['freq']].join(df_second[['freq']], lsuffix='_f', rsuffix='_s')\n",
    "c.columns = ['První text', 'Druhý text']\n",
    "c.plot(kind='bar',title='Srovnání pravděpodobností', barmode=\"group\")"
   ]
  },
  {
   "cell_type": "markdown",
   "id": "05f86736",
   "metadata": {
    "cell_id": "147311ae-a022-478e-991a-228cec637ec0",
    "deepnote_app_coordinates": {
     "h": 5,
     "w": 12,
     "x": 0,
     "y": 258
    },
    "deepnote_cell_type": "markdown",
    "tags": []
   },
   "source": [
    "Jak je vidět z grafu, sloupce pro oba texty jsou s menšími rozdíly velmi podobné. Rozhodli jsme se proto tedy spočíst korelaci mezi pravděpodobnostmi jednotlivých znaků."
   ]
  },
  {
   "cell_type": "markdown",
   "id": "aea5ae05",
   "metadata": {
    "cell_id": "00014-6e5139e4-b8e7-4bfa-9957-832a9f974fa5",
    "deepnote_app_coordinates": {
     "h": 5,
     "w": 12,
     "x": 0,
     "y": 78
    },
    "deepnote_cell_type": "markdown"
   },
   "source": [
    "#### Korelace pravděpodobností"
   ]
  },
  {
   "cell_type": "code",
   "execution_count": 10,
   "id": "3338da2e",
   "metadata": {
    "cell_id": "00015-5de81a38-5f23-45d4-857e-a1fbefe86044",
    "deepnote_app_coordinates": {
     "h": 5,
     "w": 12,
     "x": 0,
     "y": 84
    },
    "deepnote_cell_type": "code",
    "deepnote_to_be_reexecuted": false,
    "execution_millis": 26,
    "execution_start": 1646064212526,
    "source_hash": "3c2f34a7"
   },
   "outputs": [
    {
     "data": {
      "text/plain": [
       "0.9945439587726614"
      ]
     },
     "execution_count": 10,
     "metadata": {},
     "output_type": "execute_result"
    }
   ],
   "source": [
    "df_first[['freq']].join(df_second[['freq']], lsuffix='_f', rsuffix='_s').corr().iloc[1, 0]"
   ]
  },
  {
   "cell_type": "markdown",
   "id": "722e4924",
   "metadata": {
    "cell_id": "00016-246e66b7-dd91-4bcd-888e-075e22f1db51",
    "deepnote_app_coordinates": {
     "h": 5,
     "w": 12,
     "x": 0,
     "y": 90
    },
    "deepnote_cell_type": "markdown"
   },
   "source": [
    "Jak je vidět, tak pravděpodobnosti výskytů jednotlivých znaků v techtech je silně korelovaná.\n",
    "\n",
    "---"
   ]
  },
  {
   "cell_type": "markdown",
   "id": "a124c4d4",
   "metadata": {
    "cell_id": "00017-64c4807f-5025-44ff-bcd2-6bf42987cceb",
    "deepnote_app_coordinates": {
     "h": 5,
     "w": 12,
     "x": 0,
     "y": 96
    },
    "deepnote_cell_type": "markdown"
   },
   "source": [
    "## Matice přechodu\n"
   ]
  },
  {
   "cell_type": "code",
   "execution_count": 11,
   "id": "01b5fd3b",
   "metadata": {},
   "outputs": [],
   "source": [
    "import plotly.express as px\n",
    "\n",
    "def display_matrix(matrix, mapping, title=\"\"):\n",
    "    fig = px.imshow(matrix, x=mapping, y=mapping)\n",
    "\n",
    "    fig.update_layout(title=title, margin = dict(t=200,r=200,b=200,l=200),\n",
    "        showlegend = False,\n",
    "        width = 800, height = 800,\n",
    "        autosize = False )\n",
    "    fig.show()"
   ]
  },
  {
   "cell_type": "code",
   "execution_count": 12,
   "id": "fa9baff8",
   "metadata": {
    "cell_id": "00019-700a52e1-31ca-4035-acbf-b13db3ea1451",
    "deepnote_app_coordinates": {
     "h": 5,
     "w": 12,
     "x": 0,
     "y": 108
    },
    "deepnote_cell_type": "code",
    "deepnote_to_be_reexecuted": false,
    "execution_millis": 10,
    "execution_start": 1646064212556,
    "source_hash": "27d5a095"
   },
   "outputs": [
    {
     "data": {
      "image/png": "[encoded data removed]"
     },
     "metadata": {},
     "output_type": "display_data"
    }
   ],
   "source": [
    "mapping = list(df_first.index.values)\n",
    "inverse_mapping = {c:i for i,c in enumerate(mapping)}\n",
    "\n",
    "A = np.zeros(shape=[len(mapping)]*2)\n",
    "\n",
    "for i in range(len(first)-1):\n",
    "    src = first[i]\n",
    "    dest = first[i+1]\n",
    "    A[inverse_mapping[src],inverse_mapping[dest]] += 1\n",
    "\n",
    "A /= A.sum(axis=0)[:, None]\n",
    "\n",
    "display_matrix(A, mapping, title=\"Matice přechodů pro první text\")"
   ]
  },
  {
   "cell_type": "markdown",
   "id": "6d81a6eb",
   "metadata": {},
   "source": [
    "---\n",
    "\n",
    "## Nalezení stacionárního rozdělení prvního textu "
   ]
  },
  {
   "cell_type": "markdown",
   "id": "fcc2feb0",
   "metadata": {},
   "source": [
    " Je-li množina stavů S konečná a matice přechodů A homogenní, pak stacionární rozdělení existuje.\n",
    "\n",
    "\n",
    "$$\n",
    "\\pi \\cdot \\mathbf{P} = \\pi \\\\\n",
    "$$\n",
    "\n",
    "Jelikož víme, že \n",
    "$$\n",
    "\\lim_{x\\to\\inf} \\textit{row}_i(\\mathbf{P}^{x}) = \\pi\n",
    "$$\n",
    "jelikož ale pracujeme se strojovými čísly, bude tento výsledek přibližný."
   ]
  },
  {
   "cell_type": "code",
   "execution_count": 13,
   "id": "64d28da7",
   "metadata": {},
   "outputs": [
    {
     "data": {
      "text/plain": [
       "array([1.85835462e-01, 1.02139758e-01, 6.78865157e-02, 6.74215396e-02,\n",
       "       6.18418260e-02, 5.50221760e-02, 5.42472157e-02, 5.22323192e-02,\n",
       "       4.69625896e-02, 4.60326374e-02, 4.51026851e-02, 3.85930192e-02,\n",
       "       2.46437352e-02, 2.18538783e-02, 2.12339102e-02, 1.81340693e-02,\n",
       "       1.68941329e-02, 1.58091886e-02, 1.48792363e-02, 1.41042761e-02,\n",
       "       1.28643397e-02, 8.05958634e-03, 4.64976135e-03, 2.32488067e-03,\n",
       "       9.29952270e-04, 9.29952270e-04, 1.54992045e-04])"
      ]
     },
     "execution_count": 13,
     "metadata": {},
     "output_type": "execute_result"
    }
   ],
   "source": [
    "P_n = np.linalg.matrix_power(A, 100000000000000)\n",
    "pi=P_n[0]\n",
    "pi"
   ]
  },
  {
   "cell_type": "markdown",
   "id": "f5f3954b",
   "metadata": {},
   "source": [
    "Ověříme-li, že opravdu platí $ \\pi \\cdot \\mathbf{P} = \\pi \\\\ $"
   ]
  },
  {
   "cell_type": "code",
   "execution_count": 14,
   "id": "42487259",
   "metadata": {},
   "outputs": [
    {
     "data": {
      "text/plain": [
       "False"
      ]
     },
     "execution_count": 14,
     "metadata": {},
     "output_type": "execute_result"
    }
   ],
   "source": [
    "np.equal(pi.T @ A, pi.T).all()"
   ]
  },
  {
   "cell_type": "markdown",
   "id": "5a87d2f8",
   "metadata": {},
   "source": [
    "Všimneme si, že se levá strana rovnice nerovná té pravé, avšak pokud se podíváme na součet absolutních hodnot rozdílů jednotlivých složek obou stran"
   ]
  },
  {
   "cell_type": "code",
   "execution_count": 15,
   "id": "58188b35",
   "metadata": {},
   "outputs": [
    {
     "name": "stdout",
     "output_type": "stream",
     "text": [
      "Chyba: 3.655116573991757e-16\n"
     ]
    }
   ],
   "source": [
    "print(f\"Chyba: {np.abs(pi.T @ A - pi.T).sum()}\")\n"
   ]
  },
  {
   "cell_type": "markdown",
   "id": "d40735c0",
   "metadata": {},
   "source": [
    "zjistíme, že jsou si vektory opravdu \"blízké\"."
   ]
  },
  {
   "cell_type": "code",
   "execution_count": 16,
   "id": "1afb1aab",
   "metadata": {},
   "outputs": [
    {
     "data": {
      "text/plain": [
       "True"
      ]
     },
     "execution_count": 16,
     "metadata": {},
     "output_type": "execute_result"
    }
   ],
   "source": [
    "# zjistíme, jestli je chyba v toleranci (1e-8)\n",
    "np.allclose(pi.T @ A, pi.T)"
   ]
  },
  {
   "cell_type": "markdown",
   "id": "55848989",
   "metadata": {},
   "source": [
    "Přisuzujeme tedy tento rozdíl nepřesnostem při použití strojových čísel."
   ]
  },
  {
   "cell_type": "markdown",
   "id": "ef38fe2a",
   "metadata": {},
   "source": [
    "Další možností by bylo hledání stacionárního rozdělení za pomoci vlastních vektorů. \n",
    "\n",
    "Pokud se na rovnici \n",
    "\n",
    "$$ \\pi \\cdot \\mathbf{P} = \\pi \\\\ $$\n",
    "\n",
    "podíváme trochu jinak, můžeme říct, že \n",
    "\n",
    "$$ \\pi \\cdot \\mathbf{P} = \\lambda\\pi \\\\ $$\n",
    "\n",
    "kde $\\lambda$ je vlastní číslo rovné 1.\n",
    "\n",
    "Za pomoci transponování matice přechodů dostaneme\n",
    "\n",
    "$$ (\\pi \\cdot \\mathbf{P})^\\intercal = \\lambda\\pi^\\intercal \\\\ $$\n",
    "\n",
    "Což odpovídá\n",
    "\n",
    "$$ (\\mathbf{P}^\\intercal \\cdot \\pi^\\intercal  ) = \\lambda\\pi^\\intercal \\\\ $$\n",
    "\n",
    "Tudiž při hledání vlastních vektorů dostaneme levé vl. vektory $A^\\intercal$, což jsou transponované vlastní vektory matice  $A$.\n",
    "\n",
    "\n",
    "[blog o tomto tématu](https://stephens999.github.io/fiveMinuteStats/markov_chains_discrete_stationary_dist.html#Solving_for_stationary_distributions)"
   ]
  },
  {
   "cell_type": "code",
   "execution_count": 17,
   "id": "27bf12eb",
   "metadata": {},
   "outputs": [],
   "source": [
    "# transponovanim dostaneme prave vlastni vektory\n",
    "eigen_vals, eigen_vectors = np.linalg.eig(A.T) \n",
    "\n",
    "# vezmeme první vektor odpovídající vl. č. blízkému 1\n",
    "eigen_vectors = eigen_vectors[:, np.isclose(eigen_vals, 1)][:, 0] "
   ]
  },
  {
   "cell_type": "code",
   "execution_count": 18,
   "id": "03546e0d",
   "metadata": {},
   "outputs": [
    {
     "data": {
      "text/plain": [
       "True"
      ]
     },
     "execution_count": 18,
     "metadata": {},
     "output_type": "execute_result"
    }
   ],
   "source": [
    "np.allclose(eigen_vectors.T @ A, eigen_vectors.T)"
   ]
  },
  {
   "cell_type": "markdown",
   "id": "533a4238",
   "metadata": {},
   "source": [
    "Takový vlastní vektor již splňuje daný předpis"
   ]
  },
  {
   "cell_type": "code",
   "execution_count": 19,
   "id": "2f095787",
   "metadata": {},
   "outputs": [
    {
     "name": "stdout",
     "output_type": "stream",
     "text": [
      "[-6.67230382e-01+0.j -3.66726290e-01+0.j -2.43742208e-01+0.j\n",
      " -2.42072741e-01+0.j -2.22039134e-01+0.j -1.97553616e-01+0.j\n",
      " -1.94771171e-01+0.j -1.87536813e-01+0.j -1.68616185e-01+0.j\n",
      " -1.65277250e-01+0.j -1.61938316e-01+0.j -1.38565776e-01+0.j\n",
      " -8.84817604e-02+0.j -7.84649573e-02+0.j -7.62390011e-02+0.j\n",
      " -6.51092199e-02+0.j -6.06573074e-02+0.j -5.67618840e-02+0.j\n",
      " -5.34229496e-02+0.j -5.06405044e-02+0.j -4.61885919e-02+0.j\n",
      " -2.89374311e-02+0.j -1.66946718e-02+0.j -8.34733588e-03+0.j\n",
      " -3.33893435e-03+0.j -3.33893435e-03+0.j -5.56489059e-04+0.j]\n",
      "(-3.593249852959783+0j)\n"
     ]
    }
   ],
   "source": [
    "print(eigen_vectors)\n",
    "print(eigen_vectors.sum())"
   ]
  },
  {
   "cell_type": "markdown",
   "id": "6ca63d2f",
   "metadata": {},
   "source": [
    "ale jelikož se má ale jednat o rozdělení, musíme přenormovat hodnoty a ponecháme pouze reálné složky komplexních čísel."
   ]
  },
  {
   "cell_type": "code",
   "execution_count": 20,
   "id": "580e6c9a",
   "metadata": {},
   "outputs": [
    {
     "name": "stdout",
     "output_type": "stream",
     "text": [
      "[1.85689949e-01 1.02059780e-01 6.78333591e-02 6.73687471e-02\n",
      " 6.17934025e-02 5.49790925e-02 5.42047390e-02 5.21914202e-02\n",
      " 4.69258169e-02 4.59965928e-02 4.50673687e-02 3.85628001e-02\n",
      " 2.46244386e-02 2.18367663e-02 2.12172836e-02 1.81198699e-02\n",
      " 1.68809044e-02 1.57968097e-02 1.48675856e-02 1.40932322e-02\n",
      " 1.28542667e-02 8.05327551e-03 4.64612049e-03 2.32306024e-03\n",
      " 9.29224098e-04 9.29224098e-04 1.54870683e-04]\n"
     ]
    }
   ],
   "source": [
    "pi2 = (eigen_vectors / eigen_vectors.sum()).real\n",
    "print(pi2)"
   ]
  },
  {
   "cell_type": "code",
   "execution_count": 21,
   "id": "502f5310",
   "metadata": {},
   "outputs": [
    {
     "data": {
      "text/plain": [
       "True"
      ]
     },
     "execution_count": 21,
     "metadata": {},
     "output_type": "execute_result"
    }
   ],
   "source": [
    "np.allclose(pi2.T @ A, pi2.T)"
   ]
  },
  {
   "cell_type": "markdown",
   "id": "f3ee5dbb",
   "metadata": {},
   "source": [
    "Pokud se podíváme "
   ]
  },
  {
   "cell_type": "code",
   "execution_count": 22,
   "id": "43fdfda9",
   "metadata": {},
   "outputs": [
    {
     "data": {
      "text/plain": [
       "(0.27851768607322647, 0.27829960089646805)"
      ]
     },
     "execution_count": 22,
     "metadata": {},
     "output_type": "execute_result"
    }
   ],
   "source": [
    "np.linalg.norm(pi),np.linalg.norm(pi2)"
   ]
  },
  {
   "cell_type": "markdown",
   "id": "92193a8c",
   "metadata": {},
   "source": [
    "Průměrný rozdíl hodnot složek"
   ]
  },
  {
   "cell_type": "code",
   "execution_count": 23,
   "id": "a4aae2db",
   "metadata": {},
   "outputs": [
    {
     "data": {
      "text/plain": [
       "2.902350108591834e-05"
      ]
     },
     "execution_count": 23,
     "metadata": {},
     "output_type": "execute_result"
    }
   ],
   "source": [
    "np.abs(pi - pi2).mean()"
   ]
  },
  {
   "cell_type": "markdown",
   "id": "9b7f0bf2",
   "metadata": {},
   "source": [
    "---"
   ]
  },
  {
   "cell_type": "markdown",
   "id": "09472218",
   "metadata": {},
   "source": [
    "## Test shody mezi stacionárním rozdělení $\\pi$ a rozdělením znaků druhého textu "
   ]
  },
  {
   "cell_type": "code",
   "execution_count": 24,
   "id": "79f3d961",
   "metadata": {},
   "outputs": [
    {
     "data": {
      "image/png": "[encoded data removed]"
     },
     "metadata": {},
     "output_type": "display_data"
    }
   ],
   "source": [
    "# mapping pro prvni a druhy nejsou stejne!\n",
    "fig = go.Figure( data = [\n",
    "go.Bar(x=mapping, y=pi2, name='$\\pi$'),\n",
    "go.Bar(x=df_second.index, y=df_second['freq'], name='$p_2$')])\n",
    "fig.update_layout(title='Graficke srovnani π rozdělení prvního textu a rozfělení znaků druhého textu')"
   ]
  },
  {
   "cell_type": "markdown",
   "id": "233939e7",
   "metadata": {},
   "source": [
    "\n",
    "Nyní otestujeme hypotézu\n",
    "\n",
    "$$ \\mathcal{H}_0: \\text{Rozdělení znaků druhého testu se rovná rozdělení }\\pi $$ \n",
    "\n",
    "\n",
    "proti alternativě\n",
    "\n",
    "\n",
    "$$ \\mathcal{H}_A: \\text{Rozdělení znaků druhého testu se nerovná rozdělení }\\pi $$\n",
    "\n",
    "Za pomoci $\\chi^2$ testu, kde použijeme očekávanou frekvenci na základě stacionárního rozdělení s reálným rozdělením znaků v druhém textu. \n",
    "\n",
    "Testujeme na hladině významnosti $\\alpha = 5\\%$, k čemuž použijeme párový ttest."
   ]
  },
  {
   "cell_type": "code",
   "execution_count": 25,
   "id": "f11c201e",
   "metadata": {},
   "outputs": [],
   "source": [
    "expected = list((df_second['counts'].sum() )* pi2)\n",
    "df = pd.DataFrame(zip(df_first.index, expected))\n",
    "df.columns = ['znak', 'četnost']\n",
    "df.set_index('znak', inplace=True)"
   ]
  },
  {
   "cell_type": "code",
   "execution_count": 26,
   "id": "4f04135d",
   "metadata": {},
   "outputs": [],
   "source": [
    "observed = list(df_first[['counts']].join(df_second[['counts']], rsuffix='_sec')['counts_sec'])\n",
    "df2 = pd.DataFrame(zip(df_first.index, observed))\n",
    "df2.columns = ['znak', 'četnost']\n",
    "df2.set_index('znak', inplace=True)"
   ]
  },
  {
   "cell_type": "code",
   "execution_count": 27,
   "id": "98beac47",
   "metadata": {},
   "outputs": [
    {
     "data": {
      "text/html": [
       "<div>\n",
       "<style scoped>\n",
       "    .dataframe tbody tr th:only-of-type {\n",
       "        vertical-align: middle;\n",
       "    }\n",
       "\n",
       "    .dataframe tbody tr th {\n",
       "        vertical-align: top;\n",
       "    }\n",
       "\n",
       "    .dataframe thead th {\n",
       "        text-align: right;\n",
       "    }\n",
       "</style>\n",
       "<table border=\"1\" class=\"dataframe\">\n",
       "  <thead>\n",
       "    <tr style=\"text-align: right;\">\n",
       "      <th></th>\n",
       "      <th>četnost_ocekavana</th>\n",
       "      <th>četnost_namerena</th>\n",
       "    </tr>\n",
       "    <tr>\n",
       "      <th>znak</th>\n",
       "      <th></th>\n",
       "      <th></th>\n",
       "    </tr>\n",
       "  </thead>\n",
       "  <tbody>\n",
       "    <tr>\n",
       "      <th></th>\n",
       "      <td>1041.163543</td>\n",
       "      <td>1029</td>\n",
       "    </tr>\n",
       "    <tr>\n",
       "      <th>e</th>\n",
       "      <td>572.249187</td>\n",
       "      <td>577</td>\n",
       "    </tr>\n",
       "    <tr>\n",
       "      <th>a</th>\n",
       "      <td>380.341645</td>\n",
       "      <td>384</td>\n",
       "    </tr>\n",
       "    <tr>\n",
       "      <th>t</th>\n",
       "      <td>377.736565</td>\n",
       "      <td>409</td>\n",
       "    </tr>\n",
       "    <tr>\n",
       "      <th>o</th>\n",
       "      <td>346.475608</td>\n",
       "      <td>355</td>\n",
       "    </tr>\n",
       "    <tr>\n",
       "      <th>n</th>\n",
       "      <td>308.267771</td>\n",
       "      <td>310</td>\n",
       "    </tr>\n",
       "    <tr>\n",
       "      <th>r</th>\n",
       "      <td>303.925972</td>\n",
       "      <td>295</td>\n",
       "    </tr>\n",
       "    <tr>\n",
       "      <th>h</th>\n",
       "      <td>292.637293</td>\n",
       "      <td>316</td>\n",
       "    </tr>\n",
       "    <tr>\n",
       "      <th>d</th>\n",
       "      <td>263.113056</td>\n",
       "      <td>209</td>\n",
       "    </tr>\n",
       "    <tr>\n",
       "      <th>i</th>\n",
       "      <td>257.902896</td>\n",
       "      <td>307</td>\n",
       "    </tr>\n",
       "    <tr>\n",
       "      <th>s</th>\n",
       "      <td>252.692737</td>\n",
       "      <td>284</td>\n",
       "    </tr>\n",
       "    <tr>\n",
       "      <th>l</th>\n",
       "      <td>216.221620</td>\n",
       "      <td>173</td>\n",
       "    </tr>\n",
       "    <tr>\n",
       "      <th>u</th>\n",
       "      <td>138.069227</td>\n",
       "      <td>129</td>\n",
       "    </tr>\n",
       "    <tr>\n",
       "      <th>g</th>\n",
       "      <td>122.438749</td>\n",
       "      <td>94</td>\n",
       "    </tr>\n",
       "    <tr>\n",
       "      <th>f</th>\n",
       "      <td>118.965309</td>\n",
       "      <td>129</td>\n",
       "    </tr>\n",
       "    <tr>\n",
       "      <th>w</th>\n",
       "      <td>101.598111</td>\n",
       "      <td>117</td>\n",
       "    </tr>\n",
       "    <tr>\n",
       "      <th>m</th>\n",
       "      <td>94.651231</td>\n",
       "      <td>80</td>\n",
       "    </tr>\n",
       "    <tr>\n",
       "      <th>c</th>\n",
       "      <td>88.572712</td>\n",
       "      <td>124</td>\n",
       "    </tr>\n",
       "    <tr>\n",
       "      <th>b</th>\n",
       "      <td>83.362552</td>\n",
       "      <td>55</td>\n",
       "    </tr>\n",
       "    <tr>\n",
       "      <th>p</th>\n",
       "      <td>79.020753</td>\n",
       "      <td>72</td>\n",
       "    </tr>\n",
       "    <tr>\n",
       "      <th>y</th>\n",
       "      <td>72.073873</td>\n",
       "      <td>60</td>\n",
       "    </tr>\n",
       "    <tr>\n",
       "      <th>k</th>\n",
       "      <td>45.154716</td>\n",
       "      <td>30</td>\n",
       "    </tr>\n",
       "    <tr>\n",
       "      <th>v</th>\n",
       "      <td>26.050798</td>\n",
       "      <td>37</td>\n",
       "    </tr>\n",
       "    <tr>\n",
       "      <th>j</th>\n",
       "      <td>13.025399</td>\n",
       "      <td>13</td>\n",
       "    </tr>\n",
       "    <tr>\n",
       "      <th>q</th>\n",
       "      <td>5.210160</td>\n",
       "      <td>8</td>\n",
       "    </tr>\n",
       "    <tr>\n",
       "      <th>z</th>\n",
       "      <td>5.210160</td>\n",
       "      <td>7</td>\n",
       "    </tr>\n",
       "    <tr>\n",
       "      <th>x</th>\n",
       "      <td>0.868360</td>\n",
       "      <td>4</td>\n",
       "    </tr>\n",
       "  </tbody>\n",
       "</table>\n",
       "</div>"
      ],
      "text/plain": [
       "      četnost_ocekavana  četnost_namerena\n",
       "znak                                     \n",
       "            1041.163543              1029\n",
       "e            572.249187               577\n",
       "a            380.341645               384\n",
       "t            377.736565               409\n",
       "o            346.475608               355\n",
       "n            308.267771               310\n",
       "r            303.925972               295\n",
       "h            292.637293               316\n",
       "d            263.113056               209\n",
       "i            257.902896               307\n",
       "s            252.692737               284\n",
       "l            216.221620               173\n",
       "u            138.069227               129\n",
       "g            122.438749                94\n",
       "f            118.965309               129\n",
       "w            101.598111               117\n",
       "m             94.651231                80\n",
       "c             88.572712               124\n",
       "b             83.362552                55\n",
       "p             79.020753                72\n",
       "y             72.073873                60\n",
       "k             45.154716                30\n",
       "v             26.050798                37\n",
       "j             13.025399                13\n",
       "q              5.210160                 8\n",
       "z              5.210160                 7\n",
       "x              0.868360                 4"
      ]
     },
     "metadata": {},
     "output_type": "display_data"
    }
   ],
   "source": [
    "display(df.join(df2, lsuffix='_ocekavana', rsuffix='_namerena'))"
   ]
  },
  {
   "cell_type": "code",
   "execution_count": 28,
   "id": "f61e9ae6",
   "metadata": {},
   "outputs": [],
   "source": [
    "expected[-2] += expected[-1]\n",
    "observed[-2] += observed[-1]"
   ]
  },
  {
   "cell_type": "code",
   "execution_count": 29,
   "id": "45c8aad5",
   "metadata": {},
   "outputs": [],
   "source": [
    "expected = expected[:-1]\n",
    "observed = observed[:-1]"
   ]
  },
  {
   "cell_type": "code",
   "execution_count": 30,
   "id": "bc93a62b",
   "metadata": {},
   "outputs": [
    {
     "name": "stdout",
     "output_type": "stream",
     "text": [
      "Stupně volnosti: 26\n",
      "Testová statistika: 92.42891125941313\n",
      "Kritický obor: 38.88513865983007\n",
      "p-hodnota: 1.1440904634206908e-09\n"
     ]
    }
   ],
   "source": [
    "from scipy.stats import chisquare\n",
    "import scipy\n",
    "\n",
    "dof = df_second.index.shape[0] - 1\n",
    "chi2, p_value  = chisquare(observed, expected)\n",
    "crit = scipy.stats.chi2.isf(0.05, dof)\n",
    "print(f\"Stupně volnosti: {dof}\")\n",
    "print(f\"Testová statistika: {chi2}\")\n",
    "print(f\"Kritický obor: {crit}\")\n",
    "print(f\"p-hodnota: {p_value}\")"
   ]
  },
  {
   "cell_type": "code",
   "execution_count": 31,
   "id": "b69cb271",
   "metadata": {},
   "outputs": [
    {
     "data": {
      "text/plain": [
       "True"
      ]
     },
     "execution_count": 31,
     "metadata": {},
     "output_type": "execute_result"
    }
   ],
   "source": [
    "chi2 >= crit"
   ]
  },
  {
   "cell_type": "code",
   "execution_count": 32,
   "id": "f808c26b",
   "metadata": {},
   "outputs": [
    {
     "data": {
      "text/plain": [
       "True"
      ]
     },
     "execution_count": 32,
     "metadata": {},
     "output_type": "execute_result"
    }
   ],
   "source": [
    "p_value < 0.05"
   ]
  },
  {
   "cell_type": "markdown",
   "id": "d14c2ba5",
   "metadata": {},
   "source": [
    "Jelikož je testová statistika z kritického oboru hodnot a zároveň `p_hodnota` je menší než hladina významnosti (`5%`), zamítáme hypotézu $\\mathcal{H}_0$ ve prospěch alternativy $\\mathcal{H}_A$, která vyšla statisticky velmi významná (pravděpodobnost chyby 1. druhu je menší než `1.15e-9` )"
   ]
  }
 ],
 "metadata": {
  "deepnote": {},
  "deepnote_app_layout": "article",
  "deepnote_execution_queue": [],
  "deepnote_notebook_id": "3581ce44-7d69-43b5-8e51-61547d88ac77",
  "interpreter": {
   "hash": "7502563e5c6b7502b95aa63822410def3505432456c965c939f3c1e681c09475"
  },
  "kernelspec": {
   "display_name": "base",
   "language": "python",
   "name": "python3"
  },
  "language_info": {
   "codemirror_mode": {
    "name": "ipython",
    "version": 3
   },
   "file_extension": ".py",
   "mimetype": "text/x-python",
   "name": "python",
   "nbconvert_exporter": "python",
   "pygments_lexer": "ipython3",
   "version": "3.8.8"
  },
  "toc": {
   "base_numbering": 1,
   "nav_menu": {},
   "number_sections": false,
   "sideBar": true,
   "skip_h1_title": false,
   "title_cell": "Table of Contents",
   "title_sidebar": "Contents",
   "toc_cell": false,
   "toc_position": {},
   "toc_section_display": true,
   "toc_window_display": false
  }
 },
 "nbformat": 4,
 "nbformat_minor": 5
}
