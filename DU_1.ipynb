{
 "cells": [
  {
   "cell_type": "markdown",
   "source": "# NI-VSM 1.DÚ\n---\nJan Peřina  & Zdena Tropková & Matěj Hoffman\n\n---",
   "metadata": {
    "cell_id": "bb9d67f5-74f5-48cf-aab8-8fd5c59764b5",
    "deepnote_app_coordinates": {
     "x": 0,
     "y": null,
     "w": 12,
     "h": 5
    },
    "deepnote_cell_type": "markdown"
   }
  },
  {
   "cell_type": "code",
   "metadata": {
    "cell_id": "00002-a9ac9a6b-bbc4-4208-9229-891438799acc",
    "deepnote_to_be_reexecuted": false,
    "source_hash": "30e45660",
    "execution_start": 1646064209189,
    "execution_millis": 2111,
    "deepnote_app_coordinates": {
     "x": 0,
     "y": 6,
     "w": 12,
     "h": 5
    },
    "deepnote_cell_type": "code"
   },
   "source": "import pandas as pd\nimport numpy as np\nfrom matplotlib import pyplot as plt\nimport math\nfrom IPython.display import HTML, display\npd.options.plotting.backend = \"plotly\"\npd.options.display.max_columns = 30",
   "execution_count": 1,
   "outputs": []
  },
  {
   "cell_type": "code",
   "metadata": {
    "cell_id": "00003-fe4117cb-f377-4dd1-834d-7fec508aa043",
    "deepnote_to_be_reexecuted": false,
    "source_hash": "d55e6fde",
    "execution_start": 1646064211305,
    "execution_millis": 194,
    "deepnote_app_coordinates": {
     "x": 0,
     "y": 12,
     "w": 12,
     "h": 5
    },
    "deepnote_cell_type": "code"
   },
   "source": "K = 30\nL = len(\"Perina\")\nX = 1 + (K*L*23 % 20)\nY = (X + ((K*5 + L*7) % 19) % 20) + 1\nxxx = f'{X:03d}.txt'\nyyy = f'{Y:03d}.txt'\nprint(f\"Budou použity soubory {xxx} a {yyy}\")",
   "execution_count": 2,
   "outputs": [
    {
     "name": "stdout",
     "text": "Budou použity soubory 001.txt a 004.txt\n",
     "output_type": "stream"
    }
   ]
  },
  {
   "cell_type": "markdown",
   "source": "## Načtení souborů",
   "metadata": {
    "cell_id": "00004-5a8ea509-7309-4630-b461-424b3b519aff",
    "deepnote_app_coordinates": {
     "x": 0,
     "y": 18,
     "w": 12,
     "h": 5
    },
    "deepnote_cell_type": "markdown"
   }
  },
  {
   "cell_type": "code",
   "metadata": {
    "cell_id": "00005-576d5b2e-b8e0-4c87-88a0-b30911993fbc",
    "deepnote_to_be_reexecuted": false,
    "source_hash": "5e86cc3a",
    "execution_start": 1646064211323,
    "execution_millis": 177,
    "deepnote_app_coordinates": {
     "x": 0,
     "y": 24,
     "w": 12,
     "h": 5
    },
    "deepnote_cell_type": "code"
   },
   "source": "with open(f'./data/{xxx}', 'r') as f:\n    f.readline()  # nadpis ignorujeme\n    first = f.read()\n    print(f'Délka prvního textu: {len(first)}')\n\nwith open(f'./data/{yyy}', 'r') as f:\n    f.readline()\n    second = f.read()\n    print(f'Délka druhého textu: {len(second)}')",
   "execution_count": 3,
   "outputs": [
    {
     "name": "stdout",
     "text": "Délka prvního textu: 6458\nDélka druhého textu: 5607\n",
     "output_type": "stream"
    }
   ]
  },
  {
   "cell_type": "markdown",
   "source": "## Spočtení pravděpodobností",
   "metadata": {
    "cell_id": "0af3b56e-1fbf-4209-9f76-3ea6b5060789",
    "tags": [],
    "deepnote_cell_type": "markdown"
   }
  },
  {
   "cell_type": "markdown",
   "source": "Pravděpodobnost spočteme jako počet výskytů daného znaku v textu děleno počtem znaků v textu, tedy jeho délky.\n\n$$ \\text{p}(x,t)= \\frac{\\# \\text{ výskytů znaku }x\\text{ v textu }t}{\\# \\text{ znaku v textu }t} $$",
   "metadata": {
    "cell_id": "00006-0c30bd3a-5367-4453-953b-c44a8112c7a5",
    "deepnote_app_coordinates": {
     "x": 0,
     "y": 30,
     "w": 12,
     "h": 5
    },
    "deepnote_cell_type": "markdown"
   }
  },
  {
   "cell_type": "code",
   "metadata": {
    "cell_id": "00007-a1179772-289a-47ed-a185-a4d09e7469de",
    "deepnote_to_be_reexecuted": false,
    "source_hash": "1c5de07d",
    "execution_start": 1646064211348,
    "execution_millis": 7,
    "deepnote_app_coordinates": {
     "x": 0,
     "y": 36,
     "w": 12,
     "h": 5
    },
    "deepnote_cell_type": "code"
   },
   "source": "def count(text):\n    counts = {}\n\n    for x in text:\n        if x not in counts:\n            counts[x] = 1\n        else:\n            counts[x] += 1\n\n    df = pd.DataFrame.from_dict(counts, orient='index', columns=['counts'])\n    df['freq'] = df['counts'] / len(text)\n    df.sort_values(by=['freq'], ascending=False, inplace=True)\n    df.index = df.index.rename('znak')\n\n    return df",
   "execution_count": 4,
   "outputs": []
  },
  {
   "cell_type": "code",
   "metadata": {
    "cell_id": "00008-5c7916bb-31a0-4c85-9bb3-8e4248081ed5",
    "deepnote_to_be_reexecuted": false,
    "source_hash": "14ae034d",
    "execution_start": 1646064519078,
    "execution_millis": 24,
    "deepnote_app_coordinates": {
     "x": 0,
     "y": 42,
     "w": 12,
     "h": 5
    },
    "deepnote_cell_type": "code"
   },
   "source": "# první text\ndf_first = count(first)\nprint(df_first[['counts']].T)",
   "execution_count": 30,
   "outputs": [
    {
     "name": "stdout",
     "text": "znak            e    a    t    o    n    r    h    d    i    s    l    u    g  \\\ncounts  1199  659  438  436  399  355  350  337  303  297  291  249  159  141   \n\nznak      f    w    m    c   b   p   y   k   v   j  q  z  x  \ncounts  137  117  109  102  96  91  83  52  30  15  6  6  1  \n",
     "output_type": "stream"
    }
   ]
  },
  {
   "cell_type": "code",
   "metadata": {
    "cell_id": "49e0b24d-5f7d-4b4d-86cc-1a62c6aef846",
    "tags": [],
    "deepnote_to_be_reexecuted": false,
    "source_hash": "dfb59066",
    "execution_start": 1646064496394,
    "execution_millis": 27,
    "deepnote_app_coordinates": {
     "x": 0,
     "y": 252,
     "w": 12,
     "h": 5
    },
    "deepnote_cell_type": "code"
   },
   "source": "# druhý text\ndf_second = count(second)\nprint(df_second[['counts']].T)",
   "execution_count": 29,
   "outputs": [
    {
     "name": "stdout",
     "text": "znak            e    t    a    o    h    n    i    r    s    d    l    u    f  \\\ncounts  1029  577  409  384  355  316  310  307  295  284  209  173  129  129   \n\nznak      c    w   g   m   p   y   b   v   k   j  q  z  x  \ncounts  124  117  94  80  72  60  55  37  30  13  8  7  4  \n",
     "output_type": "stream"
    }
   ]
  },
  {
   "cell_type": "markdown",
   "source": "## Vizualizace pravděpodobností",
   "metadata": {
    "cell_id": "b3fb456a-ef1c-4bed-aefd-19bbd4620991",
    "tags": [],
    "deepnote_cell_type": "markdown"
   }
  },
  {
   "cell_type": "markdown",
   "source": "Jednotlivé pravděpodobnosti nyní zobrazíme pomocí sloupcového grafu, osa y reprezentuje pravděpodobnost znaku v textu. Osa X je diskrétní a reprezentuje jednotlivé znaky seřazené od nejčetnějšího po ten nejméně četný.",
   "metadata": {
    "cell_id": "00009-250d6a30-8e21-4862-a8b4-05b9634105b5",
    "deepnote_app_coordinates": {
     "x": 0,
     "y": 48,
     "w": 12,
     "h": 5
    },
    "deepnote_cell_type": "markdown"
   }
  },
  {
   "cell_type": "code",
   "metadata": {
    "cell_id": "00010-7c7ea7e4-a879-4ab8-9586-0376173a6201",
    "deepnote_to_be_reexecuted": false,
    "source_hash": "b3134cc2",
    "execution_start": 1646064211438,
    "execution_millis": 816,
    "deepnote_app_coordinates": {
     "x": 0,
     "y": 54,
     "w": 12,
     "h": 5
    },
    "deepnote_cell_type": "code"
   },
   "source": "df_first['freq'].rename('Pravděpodobnost').plot(\n    kind='bar', title=\"Pravděpodobnosti znaků v prvním textu\", labels={'value': 'hodnota'})",
   "execution_count": 7,
   "outputs": [
    {
     "data": {
      "text/html": "<html>\n<head><meta charset=\"utf-8\" /></head>\n<body>\n    <div>            <script src=\"https://cdnjs.cloudflare.com/ajax/libs/mathjax/2.7.5/MathJax.js?config=TeX-AMS-MML_SVG\"></script><script type=\"text/javascript\">if (window.MathJax) {MathJax.Hub.Config({SVG: {font: \"STIX-Web\"}});}</script>                <script type=\"text/javascript\">window.PlotlyConfig = {MathJaxConfig: 'local'};</script>\n        <script src=\"https://cdn.plot.ly/plotly-2.9.0.min.js\"></script>                <div id=\"5d84c81a-0198-4353-86d0-e1964c902207\" class=\"plotly-graph-div\" style=\"height:525px; width:100%;\"></div>            <script type=\"text/javascript\">                                    window.PLOTLYENV=window.PLOTLYENV || {};                                    if (document.getElementById(\"5d84c81a-0198-4353-86d0-e1964c902207\")) {                    Plotly.newPlot(                        \"5d84c81a-0198-4353-86d0-e1964c902207\",                        [{\"alignmentgroup\":\"True\",\"hovertemplate\":\"variable=Pravd\\u011bpodobnost<br>znak=%{x}<br>hodnota=%{y}<extra></extra>\",\"legendgroup\":\"Pravd\\u011bpodobnost\",\"marker\":{\"color\":\"#636efa\",\"pattern\":{\"shape\":\"\"}},\"name\":\"Pravd\\u011bpodobnost\",\"offsetgroup\":\"Pravd\\u011bpodobnost\",\"orientation\":\"v\",\"showlegend\":true,\"textposition\":\"auto\",\"x\":[\" \",\"e\",\"a\",\"t\",\"o\",\"n\",\"r\",\"h\",\"d\",\"i\",\"s\",\"l\",\"u\",\"g\",\"f\",\"w\",\"m\",\"c\",\"b\",\"p\",\"y\",\"k\",\"v\",\"j\",\"q\",\"z\",\"x\"],\"xaxis\":\"x\",\"y\":[0.18566119541653764,0.10204397646330134,0.06782285537318056,0.06751316196965004,0.06178383400433571,0.0549705791266646,0.05419634561783834,0.05218333849489006,0.04691855063487148,0.04598947042427996,0.04506039021368845,0.03855682873954785,0.024620625580675133,0.021833384948900587,0.02121399814183958,0.01811706410653453,0.01687829049241251,0.015794363580055745,0.01486528336946423,0.014091049860637968,0.01285227624651595,0.008052028491793125,0.004645401052957572,0.002322700526478786,0.0009290802105915144,0.0009290802105915144,0.0001548467017652524],\"yaxis\":\"y\",\"type\":\"bar\"}],                        {\"template\":{\"data\":{\"bar\":[{\"error_x\":{\"color\":\"#2a3f5f\"},\"error_y\":{\"color\":\"#2a3f5f\"},\"marker\":{\"line\":{\"color\":\"#E5ECF6\",\"width\":0.5},\"pattern\":{\"fillmode\":\"overlay\",\"size\":10,\"solidity\":0.2}},\"type\":\"bar\"}],\"barpolar\":[{\"marker\":{\"line\":{\"color\":\"#E5ECF6\",\"width\":0.5},\"pattern\":{\"fillmode\":\"overlay\",\"size\":10,\"solidity\":0.2}},\"type\":\"barpolar\"}],\"carpet\":[{\"aaxis\":{\"endlinecolor\":\"#2a3f5f\",\"gridcolor\":\"white\",\"linecolor\":\"white\",\"minorgridcolor\":\"white\",\"startlinecolor\":\"#2a3f5f\"},\"baxis\":{\"endlinecolor\":\"#2a3f5f\",\"gridcolor\":\"white\",\"linecolor\":\"white\",\"minorgridcolor\":\"white\",\"startlinecolor\":\"#2a3f5f\"},\"type\":\"carpet\"}],\"choropleth\":[{\"colorbar\":{\"outlinewidth\":0,\"ticks\":\"\"},\"type\":\"choropleth\"}],\"contour\":[{\"colorbar\":{\"outlinewidth\":0,\"ticks\":\"\"},\"colorscale\":[[0.0,\"#0d0887\"],[0.1111111111111111,\"#46039f\"],[0.2222222222222222,\"#7201a8\"],[0.3333333333333333,\"#9c179e\"],[0.4444444444444444,\"#bd3786\"],[0.5555555555555556,\"#d8576b\"],[0.6666666666666666,\"#ed7953\"],[0.7777777777777778,\"#fb9f3a\"],[0.8888888888888888,\"#fdca26\"],[1.0,\"#f0f921\"]],\"type\":\"contour\"}],\"contourcarpet\":[{\"colorbar\":{\"outlinewidth\":0,\"ticks\":\"\"},\"type\":\"contourcarpet\"}],\"heatmap\":[{\"colorbar\":{\"outlinewidth\":0,\"ticks\":\"\"},\"colorscale\":[[0.0,\"#0d0887\"],[0.1111111111111111,\"#46039f\"],[0.2222222222222222,\"#7201a8\"],[0.3333333333333333,\"#9c179e\"],[0.4444444444444444,\"#bd3786\"],[0.5555555555555556,\"#d8576b\"],[0.6666666666666666,\"#ed7953\"],[0.7777777777777778,\"#fb9f3a\"],[0.8888888888888888,\"#fdca26\"],[1.0,\"#f0f921\"]],\"type\":\"heatmap\"}],\"heatmapgl\":[{\"colorbar\":{\"outlinewidth\":0,\"ticks\":\"\"},\"colorscale\":[[0.0,\"#0d0887\"],[0.1111111111111111,\"#46039f\"],[0.2222222222222222,\"#7201a8\"],[0.3333333333333333,\"#9c179e\"],[0.4444444444444444,\"#bd3786\"],[0.5555555555555556,\"#d8576b\"],[0.6666666666666666,\"#ed7953\"],[0.7777777777777778,\"#fb9f3a\"],[0.8888888888888888,\"#fdca26\"],[1.0,\"#f0f921\"]],\"type\":\"heatmapgl\"}],\"histogram\":[{\"marker\":{\"pattern\":{\"fillmode\":\"overlay\",\"size\":10,\"solidity\":0.2}},\"type\":\"histogram\"}],\"histogram2d\":[{\"colorbar\":{\"outlinewidth\":0,\"ticks\":\"\"},\"colorscale\":[[0.0,\"#0d0887\"],[0.1111111111111111,\"#46039f\"],[0.2222222222222222,\"#7201a8\"],[0.3333333333333333,\"#9c179e\"],[0.4444444444444444,\"#bd3786\"],[0.5555555555555556,\"#d8576b\"],[0.6666666666666666,\"#ed7953\"],[0.7777777777777778,\"#fb9f3a\"],[0.8888888888888888,\"#fdca26\"],[1.0,\"#f0f921\"]],\"type\":\"histogram2d\"}],\"histogram2dcontour\":[{\"colorbar\":{\"outlinewidth\":0,\"ticks\":\"\"},\"colorscale\":[[0.0,\"#0d0887\"],[0.1111111111111111,\"#46039f\"],[0.2222222222222222,\"#7201a8\"],[0.3333333333333333,\"#9c179e\"],[0.4444444444444444,\"#bd3786\"],[0.5555555555555556,\"#d8576b\"],[0.6666666666666666,\"#ed7953\"],[0.7777777777777778,\"#fb9f3a\"],[0.8888888888888888,\"#fdca26\"],[1.0,\"#f0f921\"]],\"type\":\"histogram2dcontour\"}],\"mesh3d\":[{\"colorbar\":{\"outlinewidth\":0,\"ticks\":\"\"},\"type\":\"mesh3d\"}],\"parcoords\":[{\"line\":{\"colorbar\":{\"outlinewidth\":0,\"ticks\":\"\"}},\"type\":\"parcoords\"}],\"pie\":[{\"automargin\":true,\"type\":\"pie\"}],\"scatter\":[{\"marker\":{\"colorbar\":{\"outlinewidth\":0,\"ticks\":\"\"}},\"type\":\"scatter\"}],\"scatter3d\":[{\"line\":{\"colorbar\":{\"outlinewidth\":0,\"ticks\":\"\"}},\"marker\":{\"colorbar\":{\"outlinewidth\":0,\"ticks\":\"\"}},\"type\":\"scatter3d\"}],\"scattercarpet\":[{\"marker\":{\"colorbar\":{\"outlinewidth\":0,\"ticks\":\"\"}},\"type\":\"scattercarpet\"}],\"scattergeo\":[{\"marker\":{\"colorbar\":{\"outlinewidth\":0,\"ticks\":\"\"}},\"type\":\"scattergeo\"}],\"scattergl\":[{\"marker\":{\"colorbar\":{\"outlinewidth\":0,\"ticks\":\"\"}},\"type\":\"scattergl\"}],\"scattermapbox\":[{\"marker\":{\"colorbar\":{\"outlinewidth\":0,\"ticks\":\"\"}},\"type\":\"scattermapbox\"}],\"scatterpolar\":[{\"marker\":{\"colorbar\":{\"outlinewidth\":0,\"ticks\":\"\"}},\"type\":\"scatterpolar\"}],\"scatterpolargl\":[{\"marker\":{\"colorbar\":{\"outlinewidth\":0,\"ticks\":\"\"}},\"type\":\"scatterpolargl\"}],\"scatterternary\":[{\"marker\":{\"colorbar\":{\"outlinewidth\":0,\"ticks\":\"\"}},\"type\":\"scatterternary\"}],\"surface\":[{\"colorbar\":{\"outlinewidth\":0,\"ticks\":\"\"},\"colorscale\":[[0.0,\"#0d0887\"],[0.1111111111111111,\"#46039f\"],[0.2222222222222222,\"#7201a8\"],[0.3333333333333333,\"#9c179e\"],[0.4444444444444444,\"#bd3786\"],[0.5555555555555556,\"#d8576b\"],[0.6666666666666666,\"#ed7953\"],[0.7777777777777778,\"#fb9f3a\"],[0.8888888888888888,\"#fdca26\"],[1.0,\"#f0f921\"]],\"type\":\"surface\"}],\"table\":[{\"cells\":{\"fill\":{\"color\":\"#EBF0F8\"},\"line\":{\"color\":\"white\"}},\"header\":{\"fill\":{\"color\":\"#C8D4E3\"},\"line\":{\"color\":\"white\"}},\"type\":\"table\"}]},\"layout\":{\"annotationdefaults\":{\"arrowcolor\":\"#2a3f5f\",\"arrowhead\":0,\"arrowwidth\":1},\"autotypenumbers\":\"strict\",\"coloraxis\":{\"colorbar\":{\"outlinewidth\":0,\"ticks\":\"\"}},\"colorscale\":{\"diverging\":[[0,\"#8e0152\"],[0.1,\"#c51b7d\"],[0.2,\"#de77ae\"],[0.3,\"#f1b6da\"],[0.4,\"#fde0ef\"],[0.5,\"#f7f7f7\"],[0.6,\"#e6f5d0\"],[0.7,\"#b8e186\"],[0.8,\"#7fbc41\"],[0.9,\"#4d9221\"],[1,\"#276419\"]],\"sequential\":[[0.0,\"#0d0887\"],[0.1111111111111111,\"#46039f\"],[0.2222222222222222,\"#7201a8\"],[0.3333333333333333,\"#9c179e\"],[0.4444444444444444,\"#bd3786\"],[0.5555555555555556,\"#d8576b\"],[0.6666666666666666,\"#ed7953\"],[0.7777777777777778,\"#fb9f3a\"],[0.8888888888888888,\"#fdca26\"],[1.0,\"#f0f921\"]],\"sequentialminus\":[[0.0,\"#0d0887\"],[0.1111111111111111,\"#46039f\"],[0.2222222222222222,\"#7201a8\"],[0.3333333333333333,\"#9c179e\"],[0.4444444444444444,\"#bd3786\"],[0.5555555555555556,\"#d8576b\"],[0.6666666666666666,\"#ed7953\"],[0.7777777777777778,\"#fb9f3a\"],[0.8888888888888888,\"#fdca26\"],[1.0,\"#f0f921\"]]},\"colorway\":[\"#636efa\",\"#EF553B\",\"#00cc96\",\"#ab63fa\",\"#FFA15A\",\"#19d3f3\",\"#FF6692\",\"#B6E880\",\"#FF97FF\",\"#FECB52\"],\"font\":{\"color\":\"#2a3f5f\"},\"geo\":{\"bgcolor\":\"white\",\"lakecolor\":\"white\",\"landcolor\":\"#E5ECF6\",\"showlakes\":true,\"showland\":true,\"subunitcolor\":\"white\"},\"hoverlabel\":{\"align\":\"left\"},\"hovermode\":\"closest\",\"mapbox\":{\"style\":\"light\"},\"paper_bgcolor\":\"white\",\"plot_bgcolor\":\"#E5ECF6\",\"polar\":{\"angularaxis\":{\"gridcolor\":\"white\",\"linecolor\":\"white\",\"ticks\":\"\"},\"bgcolor\":\"#E5ECF6\",\"radialaxis\":{\"gridcolor\":\"white\",\"linecolor\":\"white\",\"ticks\":\"\"}},\"scene\":{\"xaxis\":{\"backgroundcolor\":\"#E5ECF6\",\"gridcolor\":\"white\",\"gridwidth\":2,\"linecolor\":\"white\",\"showbackground\":true,\"ticks\":\"\",\"zerolinecolor\":\"white\"},\"yaxis\":{\"backgroundcolor\":\"#E5ECF6\",\"gridcolor\":\"white\",\"gridwidth\":2,\"linecolor\":\"white\",\"showbackground\":true,\"ticks\":\"\",\"zerolinecolor\":\"white\"},\"zaxis\":{\"backgroundcolor\":\"#E5ECF6\",\"gridcolor\":\"white\",\"gridwidth\":2,\"linecolor\":\"white\",\"showbackground\":true,\"ticks\":\"\",\"zerolinecolor\":\"white\"}},\"shapedefaults\":{\"line\":{\"color\":\"#2a3f5f\"}},\"ternary\":{\"aaxis\":{\"gridcolor\":\"white\",\"linecolor\":\"white\",\"ticks\":\"\"},\"baxis\":{\"gridcolor\":\"white\",\"linecolor\":\"white\",\"ticks\":\"\"},\"bgcolor\":\"#E5ECF6\",\"caxis\":{\"gridcolor\":\"white\",\"linecolor\":\"white\",\"ticks\":\"\"}},\"title\":{\"x\":0.05},\"xaxis\":{\"automargin\":true,\"gridcolor\":\"white\",\"linecolor\":\"white\",\"ticks\":\"\",\"title\":{\"standoff\":15},\"zerolinecolor\":\"white\",\"zerolinewidth\":2},\"yaxis\":{\"automargin\":true,\"gridcolor\":\"white\",\"linecolor\":\"white\",\"ticks\":\"\",\"title\":{\"standoff\":15},\"zerolinecolor\":\"white\",\"zerolinewidth\":2}}},\"xaxis\":{\"anchor\":\"y\",\"domain\":[0.0,1.0],\"title\":{\"text\":\"znak\"}},\"yaxis\":{\"anchor\":\"x\",\"domain\":[0.0,1.0],\"title\":{\"text\":\"hodnota\"}},\"legend\":{\"title\":{\"text\":\"variable\"},\"tracegroupgap\":0},\"title\":{\"text\":\"Pravd\\u011bpodobnosti znak\\u016f v prvn\\u00edm textu\"},\"barmode\":\"relative\"},                        {\"responsive\": true}                    ).then(function(){\n                            \nvar gd = document.getElementById('5d84c81a-0198-4353-86d0-e1964c902207');\nvar x = new MutationObserver(function (mutations, observer) {{\n        var display = window.getComputedStyle(gd).display;\n        if (!display || display === 'none') {{\n            console.log([gd, 'removed!']);\n            Plotly.purge(gd);\n            observer.disconnect();\n        }}\n}});\n\n// Listen for the removal of the full notebook cells\nvar notebookContainer = gd.closest('#notebook-container');\nif (notebookContainer) {{\n    x.observe(notebookContainer, {childList: true});\n}}\n\n// Listen for the clearing of the current output cell\nvar outputEl = gd.closest('.output');\nif (outputEl) {{\n    x.observe(outputEl, {childList: true});\n}}\n\n                        })                };                            </script>        </div>\n</body>\n</html>"
     },
     "metadata": {},
     "output_type": "display_data"
    }
   ]
  },
  {
   "cell_type": "markdown",
   "source": "Jak je vidět, tak znakem s největší pravděpodobností je mezera, následně znaky `e`, `a` a `t`. Nejméně pravděpodobné naopak byly znaky `q`, `z` a `x`.",
   "metadata": {
    "cell_id": "9320cd4b-a554-46fe-88e5-a13e7eb3bb30",
    "tags": [],
    "deepnote_cell_type": "markdown"
   }
  },
  {
   "cell_type": "markdown",
   "source": "Obdobně jsme zvizualizovali hodnoty pro druhý text.",
   "metadata": {
    "cell_id": "00011-f44fb145-4a3d-4860-9685-f7c4d2037b31",
    "deepnote_app_coordinates": {
     "x": 0,
     "y": 60,
     "w": 12,
     "h": 5
    },
    "deepnote_cell_type": "markdown"
   }
  },
  {
   "cell_type": "code",
   "metadata": {
    "cell_id": "00012-2be776be-d6c5-4072-91c3-969cec8c7397",
    "deepnote_to_be_reexecuted": false,
    "source_hash": "5850716f",
    "execution_start": 1646064212260,
    "execution_millis": 122,
    "deepnote_app_coordinates": {
     "x": 0,
     "y": 66,
     "w": 12,
     "h": 5
    },
    "deepnote_cell_type": "code"
   },
   "source": "df_second['freq'].rename('Pravděpodobnost').plot(\n    kind='bar', title=\"Pravděpodobnosti znaků v druhém textu\", labels={'value': 'hodnota'})",
   "execution_count": 8,
   "outputs": [
    {
     "data": {
      "text/html": "<html>\n<head><meta charset=\"utf-8\" /></head>\n<body>\n    <div>            <script src=\"https://cdnjs.cloudflare.com/ajax/libs/mathjax/2.7.5/MathJax.js?config=TeX-AMS-MML_SVG\"></script><script type=\"text/javascript\">if (window.MathJax) {MathJax.Hub.Config({SVG: {font: \"STIX-Web\"}});}</script>                <script type=\"text/javascript\">window.PlotlyConfig = {MathJaxConfig: 'local'};</script>\n        <script src=\"https://cdn.plot.ly/plotly-2.9.0.min.js\"></script>                <div id=\"6333147a-2042-40fa-888b-bfd5363f4b24\" class=\"plotly-graph-div\" style=\"height:525px; width:100%;\"></div>            <script type=\"text/javascript\">                                    window.PLOTLYENV=window.PLOTLYENV || {};                                    if (document.getElementById(\"6333147a-2042-40fa-888b-bfd5363f4b24\")) {                    Plotly.newPlot(                        \"6333147a-2042-40fa-888b-bfd5363f4b24\",                        [{\"alignmentgroup\":\"True\",\"hovertemplate\":\"variable=Pravd\\u011bpodobnost<br>znak=%{x}<br>hodnota=%{y}<extra></extra>\",\"legendgroup\":\"Pravd\\u011bpodobnost\",\"marker\":{\"color\":\"#636efa\",\"pattern\":{\"shape\":\"\"}},\"name\":\"Pravd\\u011bpodobnost\",\"offsetgroup\":\"Pravd\\u011bpodobnost\",\"orientation\":\"v\",\"showlegend\":true,\"textposition\":\"auto\",\"x\":[\" \",\"e\",\"t\",\"a\",\"o\",\"h\",\"n\",\"i\",\"r\",\"s\",\"d\",\"l\",\"u\",\"f\",\"c\",\"w\",\"g\",\"m\",\"p\",\"y\",\"b\",\"v\",\"k\",\"j\",\"q\",\"z\",\"x\"],\"xaxis\":\"x\",\"y\":[0.18352059925093633,0.10290708043517033,0.07294453361869092,0.06848582129481005,0.06331371499910826,0.05635812377385411,0.055288032816122705,0.054752987337257,0.05261280542179419,0.05065097199928661,0.03727483502764402,0.030854289281255574,0.023006955591225255,0.023006955591225255,0.022115213126449082,0.02086677367576244,0.016764758337792045,0.014267879436418763,0.012841091492776886,0.010700909577314071,0.0098091671125379,0.006598894239343678,0.005350454788657036,0.002318530408418049,0.0014267879436418763,0.0012484394506866417,0.0007133939718209382],\"yaxis\":\"y\",\"type\":\"bar\"}],                        {\"template\":{\"data\":{\"bar\":[{\"error_x\":{\"color\":\"#2a3f5f\"},\"error_y\":{\"color\":\"#2a3f5f\"},\"marker\":{\"line\":{\"color\":\"#E5ECF6\",\"width\":0.5},\"pattern\":{\"fillmode\":\"overlay\",\"size\":10,\"solidity\":0.2}},\"type\":\"bar\"}],\"barpolar\":[{\"marker\":{\"line\":{\"color\":\"#E5ECF6\",\"width\":0.5},\"pattern\":{\"fillmode\":\"overlay\",\"size\":10,\"solidity\":0.2}},\"type\":\"barpolar\"}],\"carpet\":[{\"aaxis\":{\"endlinecolor\":\"#2a3f5f\",\"gridcolor\":\"white\",\"linecolor\":\"white\",\"minorgridcolor\":\"white\",\"startlinecolor\":\"#2a3f5f\"},\"baxis\":{\"endlinecolor\":\"#2a3f5f\",\"gridcolor\":\"white\",\"linecolor\":\"white\",\"minorgridcolor\":\"white\",\"startlinecolor\":\"#2a3f5f\"},\"type\":\"carpet\"}],\"choropleth\":[{\"colorbar\":{\"outlinewidth\":0,\"ticks\":\"\"},\"type\":\"choropleth\"}],\"contour\":[{\"colorbar\":{\"outlinewidth\":0,\"ticks\":\"\"},\"colorscale\":[[0.0,\"#0d0887\"],[0.1111111111111111,\"#46039f\"],[0.2222222222222222,\"#7201a8\"],[0.3333333333333333,\"#9c179e\"],[0.4444444444444444,\"#bd3786\"],[0.5555555555555556,\"#d8576b\"],[0.6666666666666666,\"#ed7953\"],[0.7777777777777778,\"#fb9f3a\"],[0.8888888888888888,\"#fdca26\"],[1.0,\"#f0f921\"]],\"type\":\"contour\"}],\"contourcarpet\":[{\"colorbar\":{\"outlinewidth\":0,\"ticks\":\"\"},\"type\":\"contourcarpet\"}],\"heatmap\":[{\"colorbar\":{\"outlinewidth\":0,\"ticks\":\"\"},\"colorscale\":[[0.0,\"#0d0887\"],[0.1111111111111111,\"#46039f\"],[0.2222222222222222,\"#7201a8\"],[0.3333333333333333,\"#9c179e\"],[0.4444444444444444,\"#bd3786\"],[0.5555555555555556,\"#d8576b\"],[0.6666666666666666,\"#ed7953\"],[0.7777777777777778,\"#fb9f3a\"],[0.8888888888888888,\"#fdca26\"],[1.0,\"#f0f921\"]],\"type\":\"heatmap\"}],\"heatmapgl\":[{\"colorbar\":{\"outlinewidth\":0,\"ticks\":\"\"},\"colorscale\":[[0.0,\"#0d0887\"],[0.1111111111111111,\"#46039f\"],[0.2222222222222222,\"#7201a8\"],[0.3333333333333333,\"#9c179e\"],[0.4444444444444444,\"#bd3786\"],[0.5555555555555556,\"#d8576b\"],[0.6666666666666666,\"#ed7953\"],[0.7777777777777778,\"#fb9f3a\"],[0.8888888888888888,\"#fdca26\"],[1.0,\"#f0f921\"]],\"type\":\"heatmapgl\"}],\"histogram\":[{\"marker\":{\"pattern\":{\"fillmode\":\"overlay\",\"size\":10,\"solidity\":0.2}},\"type\":\"histogram\"}],\"histogram2d\":[{\"colorbar\":{\"outlinewidth\":0,\"ticks\":\"\"},\"colorscale\":[[0.0,\"#0d0887\"],[0.1111111111111111,\"#46039f\"],[0.2222222222222222,\"#7201a8\"],[0.3333333333333333,\"#9c179e\"],[0.4444444444444444,\"#bd3786\"],[0.5555555555555556,\"#d8576b\"],[0.6666666666666666,\"#ed7953\"],[0.7777777777777778,\"#fb9f3a\"],[0.8888888888888888,\"#fdca26\"],[1.0,\"#f0f921\"]],\"type\":\"histogram2d\"}],\"histogram2dcontour\":[{\"colorbar\":{\"outlinewidth\":0,\"ticks\":\"\"},\"colorscale\":[[0.0,\"#0d0887\"],[0.1111111111111111,\"#46039f\"],[0.2222222222222222,\"#7201a8\"],[0.3333333333333333,\"#9c179e\"],[0.4444444444444444,\"#bd3786\"],[0.5555555555555556,\"#d8576b\"],[0.6666666666666666,\"#ed7953\"],[0.7777777777777778,\"#fb9f3a\"],[0.8888888888888888,\"#fdca26\"],[1.0,\"#f0f921\"]],\"type\":\"histogram2dcontour\"}],\"mesh3d\":[{\"colorbar\":{\"outlinewidth\":0,\"ticks\":\"\"},\"type\":\"mesh3d\"}],\"parcoords\":[{\"line\":{\"colorbar\":{\"outlinewidth\":0,\"ticks\":\"\"}},\"type\":\"parcoords\"}],\"pie\":[{\"automargin\":true,\"type\":\"pie\"}],\"scatter\":[{\"marker\":{\"colorbar\":{\"outlinewidth\":0,\"ticks\":\"\"}},\"type\":\"scatter\"}],\"scatter3d\":[{\"line\":{\"colorbar\":{\"outlinewidth\":0,\"ticks\":\"\"}},\"marker\":{\"colorbar\":{\"outlinewidth\":0,\"ticks\":\"\"}},\"type\":\"scatter3d\"}],\"scattercarpet\":[{\"marker\":{\"colorbar\":{\"outlinewidth\":0,\"ticks\":\"\"}},\"type\":\"scattercarpet\"}],\"scattergeo\":[{\"marker\":{\"colorbar\":{\"outlinewidth\":0,\"ticks\":\"\"}},\"type\":\"scattergeo\"}],\"scattergl\":[{\"marker\":{\"colorbar\":{\"outlinewidth\":0,\"ticks\":\"\"}},\"type\":\"scattergl\"}],\"scattermapbox\":[{\"marker\":{\"colorbar\":{\"outlinewidth\":0,\"ticks\":\"\"}},\"type\":\"scattermapbox\"}],\"scatterpolar\":[{\"marker\":{\"colorbar\":{\"outlinewidth\":0,\"ticks\":\"\"}},\"type\":\"scatterpolar\"}],\"scatterpolargl\":[{\"marker\":{\"colorbar\":{\"outlinewidth\":0,\"ticks\":\"\"}},\"type\":\"scatterpolargl\"}],\"scatterternary\":[{\"marker\":{\"colorbar\":{\"outlinewidth\":0,\"ticks\":\"\"}},\"type\":\"scatterternary\"}],\"surface\":[{\"colorbar\":{\"outlinewidth\":0,\"ticks\":\"\"},\"colorscale\":[[0.0,\"#0d0887\"],[0.1111111111111111,\"#46039f\"],[0.2222222222222222,\"#7201a8\"],[0.3333333333333333,\"#9c179e\"],[0.4444444444444444,\"#bd3786\"],[0.5555555555555556,\"#d8576b\"],[0.6666666666666666,\"#ed7953\"],[0.7777777777777778,\"#fb9f3a\"],[0.8888888888888888,\"#fdca26\"],[1.0,\"#f0f921\"]],\"type\":\"surface\"}],\"table\":[{\"cells\":{\"fill\":{\"color\":\"#EBF0F8\"},\"line\":{\"color\":\"white\"}},\"header\":{\"fill\":{\"color\":\"#C8D4E3\"},\"line\":{\"color\":\"white\"}},\"type\":\"table\"}]},\"layout\":{\"annotationdefaults\":{\"arrowcolor\":\"#2a3f5f\",\"arrowhead\":0,\"arrowwidth\":1},\"autotypenumbers\":\"strict\",\"coloraxis\":{\"colorbar\":{\"outlinewidth\":0,\"ticks\":\"\"}},\"colorscale\":{\"diverging\":[[0,\"#8e0152\"],[0.1,\"#c51b7d\"],[0.2,\"#de77ae\"],[0.3,\"#f1b6da\"],[0.4,\"#fde0ef\"],[0.5,\"#f7f7f7\"],[0.6,\"#e6f5d0\"],[0.7,\"#b8e186\"],[0.8,\"#7fbc41\"],[0.9,\"#4d9221\"],[1,\"#276419\"]],\"sequential\":[[0.0,\"#0d0887\"],[0.1111111111111111,\"#46039f\"],[0.2222222222222222,\"#7201a8\"],[0.3333333333333333,\"#9c179e\"],[0.4444444444444444,\"#bd3786\"],[0.5555555555555556,\"#d8576b\"],[0.6666666666666666,\"#ed7953\"],[0.7777777777777778,\"#fb9f3a\"],[0.8888888888888888,\"#fdca26\"],[1.0,\"#f0f921\"]],\"sequentialminus\":[[0.0,\"#0d0887\"],[0.1111111111111111,\"#46039f\"],[0.2222222222222222,\"#7201a8\"],[0.3333333333333333,\"#9c179e\"],[0.4444444444444444,\"#bd3786\"],[0.5555555555555556,\"#d8576b\"],[0.6666666666666666,\"#ed7953\"],[0.7777777777777778,\"#fb9f3a\"],[0.8888888888888888,\"#fdca26\"],[1.0,\"#f0f921\"]]},\"colorway\":[\"#636efa\",\"#EF553B\",\"#00cc96\",\"#ab63fa\",\"#FFA15A\",\"#19d3f3\",\"#FF6692\",\"#B6E880\",\"#FF97FF\",\"#FECB52\"],\"font\":{\"color\":\"#2a3f5f\"},\"geo\":{\"bgcolor\":\"white\",\"lakecolor\":\"white\",\"landcolor\":\"#E5ECF6\",\"showlakes\":true,\"showland\":true,\"subunitcolor\":\"white\"},\"hoverlabel\":{\"align\":\"left\"},\"hovermode\":\"closest\",\"mapbox\":{\"style\":\"light\"},\"paper_bgcolor\":\"white\",\"plot_bgcolor\":\"#E5ECF6\",\"polar\":{\"angularaxis\":{\"gridcolor\":\"white\",\"linecolor\":\"white\",\"ticks\":\"\"},\"bgcolor\":\"#E5ECF6\",\"radialaxis\":{\"gridcolor\":\"white\",\"linecolor\":\"white\",\"ticks\":\"\"}},\"scene\":{\"xaxis\":{\"backgroundcolor\":\"#E5ECF6\",\"gridcolor\":\"white\",\"gridwidth\":2,\"linecolor\":\"white\",\"showbackground\":true,\"ticks\":\"\",\"zerolinecolor\":\"white\"},\"yaxis\":{\"backgroundcolor\":\"#E5ECF6\",\"gridcolor\":\"white\",\"gridwidth\":2,\"linecolor\":\"white\",\"showbackground\":true,\"ticks\":\"\",\"zerolinecolor\":\"white\"},\"zaxis\":{\"backgroundcolor\":\"#E5ECF6\",\"gridcolor\":\"white\",\"gridwidth\":2,\"linecolor\":\"white\",\"showbackground\":true,\"ticks\":\"\",\"zerolinecolor\":\"white\"}},\"shapedefaults\":{\"line\":{\"color\":\"#2a3f5f\"}},\"ternary\":{\"aaxis\":{\"gridcolor\":\"white\",\"linecolor\":\"white\",\"ticks\":\"\"},\"baxis\":{\"gridcolor\":\"white\",\"linecolor\":\"white\",\"ticks\":\"\"},\"bgcolor\":\"#E5ECF6\",\"caxis\":{\"gridcolor\":\"white\",\"linecolor\":\"white\",\"ticks\":\"\"}},\"title\":{\"x\":0.05},\"xaxis\":{\"automargin\":true,\"gridcolor\":\"white\",\"linecolor\":\"white\",\"ticks\":\"\",\"title\":{\"standoff\":15},\"zerolinecolor\":\"white\",\"zerolinewidth\":2},\"yaxis\":{\"automargin\":true,\"gridcolor\":\"white\",\"linecolor\":\"white\",\"ticks\":\"\",\"title\":{\"standoff\":15},\"zerolinecolor\":\"white\",\"zerolinewidth\":2}}},\"xaxis\":{\"anchor\":\"y\",\"domain\":[0.0,1.0],\"title\":{\"text\":\"znak\"}},\"yaxis\":{\"anchor\":\"x\",\"domain\":[0.0,1.0],\"title\":{\"text\":\"hodnota\"}},\"legend\":{\"title\":{\"text\":\"variable\"},\"tracegroupgap\":0},\"title\":{\"text\":\"Pravd\\u011bpodobnosti znak\\u016f v druh\\u00e9m textu\"},\"barmode\":\"relative\"},                        {\"responsive\": true}                    ).then(function(){\n                            \nvar gd = document.getElementById('6333147a-2042-40fa-888b-bfd5363f4b24');\nvar x = new MutationObserver(function (mutations, observer) {{\n        var display = window.getComputedStyle(gd).display;\n        if (!display || display === 'none') {{\n            console.log([gd, 'removed!']);\n            Plotly.purge(gd);\n            observer.disconnect();\n        }}\n}});\n\n// Listen for the removal of the full notebook cells\nvar notebookContainer = gd.closest('#notebook-container');\nif (notebookContainer) {{\n    x.observe(notebookContainer, {childList: true});\n}}\n\n// Listen for the clearing of the current output cell\nvar outputEl = gd.closest('.output');\nif (outputEl) {{\n    x.observe(outputEl, {childList: true});\n}}\n\n                        })                };                            </script>        </div>\n</body>\n</html>"
     },
     "metadata": {},
     "output_type": "display_data"
    }
   ]
  },
  {
   "cell_type": "markdown",
   "source": "Z grafu je vidět, že opět byla nejčastější mezera, hned po ní opět trojice `e`, `a`, `t` (v jiném pořadí) a nejméně četné byly opět znaky `q`,`z` a `x`.",
   "metadata": {
    "cell_id": "048a109d-f67c-4a36-ba7f-67c6c04b405e",
    "tags": [],
    "deepnote_cell_type": "markdown"
   }
  },
  {
   "cell_type": "markdown",
   "source": "Na základě této podobnosti jsme se rozhodli vykreslit graf pravděpodobností jednotlivých znaků pro oba texty. ",
   "metadata": {
    "cell_id": "49671e61-28dc-4e5a-a2da-0960d7dc640d",
    "tags": [],
    "deepnote_cell_type": "markdown"
   }
  },
  {
   "cell_type": "code",
   "metadata": {
    "cell_id": "00013-89645518-be2c-47b0-9677-695b6ca0b35b",
    "deepnote_to_be_reexecuted": false,
    "source_hash": "a05278ca",
    "execution_start": 1646064212387,
    "execution_millis": 137,
    "deepnote_app_coordinates": {
     "x": 0,
     "y": 72,
     "w": 12,
     "h": 5
    },
    "deepnote_cell_type": "code"
   },
   "source": "c = df_first[['freq']].join(df_second[['freq']], lsuffix='_f', rsuffix='_s')\nc.columns = ['První text', 'Druhý text']\nc.plot(kind='bar', barmode='group', title='Srovnání pravděpodobností ',\n       labels={'value': 'pravděpodobnost'})",
   "execution_count": 9,
   "outputs": [
    {
     "data": {
      "text/html": "<html>\n<head><meta charset=\"utf-8\" /></head>\n<body>\n    <div>            <script src=\"https://cdnjs.cloudflare.com/ajax/libs/mathjax/2.7.5/MathJax.js?config=TeX-AMS-MML_SVG\"></script><script type=\"text/javascript\">if (window.MathJax) {MathJax.Hub.Config({SVG: {font: \"STIX-Web\"}});}</script>                <script type=\"text/javascript\">window.PlotlyConfig = {MathJaxConfig: 'local'};</script>\n        <script src=\"https://cdn.plot.ly/plotly-2.9.0.min.js\"></script>                <div id=\"040b5cff-6b6c-442f-8534-0d5b4e1d115b\" class=\"plotly-graph-div\" style=\"height:525px; width:100%;\"></div>            <script type=\"text/javascript\">                                    window.PLOTLYENV=window.PLOTLYENV || {};                                    if (document.getElementById(\"040b5cff-6b6c-442f-8534-0d5b4e1d115b\")) {                    Plotly.newPlot(                        \"040b5cff-6b6c-442f-8534-0d5b4e1d115b\",                        [{\"alignmentgroup\":\"True\",\"hovertemplate\":\"variable=Prvn\\u00ed text<br>znak=%{x}<br>pravd\\u011bpodobnost=%{y}<extra></extra>\",\"legendgroup\":\"Prvn\\u00ed text\",\"marker\":{\"color\":\"#636efa\",\"pattern\":{\"shape\":\"\"}},\"name\":\"Prvn\\u00ed text\",\"offsetgroup\":\"Prvn\\u00ed text\",\"orientation\":\"v\",\"showlegend\":true,\"textposition\":\"auto\",\"x\":[\" \",\"e\",\"a\",\"t\",\"o\",\"n\",\"r\",\"h\",\"d\",\"i\",\"s\",\"l\",\"u\",\"g\",\"f\",\"w\",\"m\",\"c\",\"b\",\"p\",\"y\",\"k\",\"v\",\"j\",\"q\",\"z\",\"x\"],\"xaxis\":\"x\",\"y\":[0.18566119541653764,0.10204397646330134,0.06782285537318056,0.06751316196965004,0.06178383400433571,0.0549705791266646,0.05419634561783834,0.05218333849489006,0.04691855063487148,0.04598947042427996,0.04506039021368845,0.03855682873954785,0.024620625580675133,0.021833384948900587,0.02121399814183958,0.01811706410653453,0.01687829049241251,0.015794363580055745,0.01486528336946423,0.014091049860637968,0.01285227624651595,0.008052028491793125,0.004645401052957572,0.002322700526478786,0.0009290802105915144,0.0009290802105915144,0.0001548467017652524],\"yaxis\":\"y\",\"type\":\"bar\"},{\"alignmentgroup\":\"True\",\"hovertemplate\":\"variable=Druh\\u00fd text<br>znak=%{x}<br>pravd\\u011bpodobnost=%{y}<extra></extra>\",\"legendgroup\":\"Druh\\u00fd text\",\"marker\":{\"color\":\"#EF553B\",\"pattern\":{\"shape\":\"\"}},\"name\":\"Druh\\u00fd text\",\"offsetgroup\":\"Druh\\u00fd text\",\"orientation\":\"v\",\"showlegend\":true,\"textposition\":\"auto\",\"x\":[\" \",\"e\",\"a\",\"t\",\"o\",\"n\",\"r\",\"h\",\"d\",\"i\",\"s\",\"l\",\"u\",\"g\",\"f\",\"w\",\"m\",\"c\",\"b\",\"p\",\"y\",\"k\",\"v\",\"j\",\"q\",\"z\",\"x\"],\"xaxis\":\"x\",\"y\":[0.18352059925093633,0.10290708043517033,0.06848582129481005,0.07294453361869092,0.06331371499910826,0.055288032816122705,0.05261280542179419,0.05635812377385411,0.03727483502764402,0.054752987337257,0.05065097199928661,0.030854289281255574,0.023006955591225255,0.016764758337792045,0.023006955591225255,0.02086677367576244,0.014267879436418763,0.022115213126449082,0.0098091671125379,0.012841091492776886,0.010700909577314071,0.005350454788657036,0.006598894239343678,0.002318530408418049,0.0014267879436418763,0.0012484394506866417,0.0007133939718209382],\"yaxis\":\"y\",\"type\":\"bar\"}],                        {\"template\":{\"data\":{\"bar\":[{\"error_x\":{\"color\":\"#2a3f5f\"},\"error_y\":{\"color\":\"#2a3f5f\"},\"marker\":{\"line\":{\"color\":\"#E5ECF6\",\"width\":0.5},\"pattern\":{\"fillmode\":\"overlay\",\"size\":10,\"solidity\":0.2}},\"type\":\"bar\"}],\"barpolar\":[{\"marker\":{\"line\":{\"color\":\"#E5ECF6\",\"width\":0.5},\"pattern\":{\"fillmode\":\"overlay\",\"size\":10,\"solidity\":0.2}},\"type\":\"barpolar\"}],\"carpet\":[{\"aaxis\":{\"endlinecolor\":\"#2a3f5f\",\"gridcolor\":\"white\",\"linecolor\":\"white\",\"minorgridcolor\":\"white\",\"startlinecolor\":\"#2a3f5f\"},\"baxis\":{\"endlinecolor\":\"#2a3f5f\",\"gridcolor\":\"white\",\"linecolor\":\"white\",\"minorgridcolor\":\"white\",\"startlinecolor\":\"#2a3f5f\"},\"type\":\"carpet\"}],\"choropleth\":[{\"colorbar\":{\"outlinewidth\":0,\"ticks\":\"\"},\"type\":\"choropleth\"}],\"contour\":[{\"colorbar\":{\"outlinewidth\":0,\"ticks\":\"\"},\"colorscale\":[[0.0,\"#0d0887\"],[0.1111111111111111,\"#46039f\"],[0.2222222222222222,\"#7201a8\"],[0.3333333333333333,\"#9c179e\"],[0.4444444444444444,\"#bd3786\"],[0.5555555555555556,\"#d8576b\"],[0.6666666666666666,\"#ed7953\"],[0.7777777777777778,\"#fb9f3a\"],[0.8888888888888888,\"#fdca26\"],[1.0,\"#f0f921\"]],\"type\":\"contour\"}],\"contourcarpet\":[{\"colorbar\":{\"outlinewidth\":0,\"ticks\":\"\"},\"type\":\"contourcarpet\"}],\"heatmap\":[{\"colorbar\":{\"outlinewidth\":0,\"ticks\":\"\"},\"colorscale\":[[0.0,\"#0d0887\"],[0.1111111111111111,\"#46039f\"],[0.2222222222222222,\"#7201a8\"],[0.3333333333333333,\"#9c179e\"],[0.4444444444444444,\"#bd3786\"],[0.5555555555555556,\"#d8576b\"],[0.6666666666666666,\"#ed7953\"],[0.7777777777777778,\"#fb9f3a\"],[0.8888888888888888,\"#fdca26\"],[1.0,\"#f0f921\"]],\"type\":\"heatmap\"}],\"heatmapgl\":[{\"colorbar\":{\"outlinewidth\":0,\"ticks\":\"\"},\"colorscale\":[[0.0,\"#0d0887\"],[0.1111111111111111,\"#46039f\"],[0.2222222222222222,\"#7201a8\"],[0.3333333333333333,\"#9c179e\"],[0.4444444444444444,\"#bd3786\"],[0.5555555555555556,\"#d8576b\"],[0.6666666666666666,\"#ed7953\"],[0.7777777777777778,\"#fb9f3a\"],[0.8888888888888888,\"#fdca26\"],[1.0,\"#f0f921\"]],\"type\":\"heatmapgl\"}],\"histogram\":[{\"marker\":{\"pattern\":{\"fillmode\":\"overlay\",\"size\":10,\"solidity\":0.2}},\"type\":\"histogram\"}],\"histogram2d\":[{\"colorbar\":{\"outlinewidth\":0,\"ticks\":\"\"},\"colorscale\":[[0.0,\"#0d0887\"],[0.1111111111111111,\"#46039f\"],[0.2222222222222222,\"#7201a8\"],[0.3333333333333333,\"#9c179e\"],[0.4444444444444444,\"#bd3786\"],[0.5555555555555556,\"#d8576b\"],[0.6666666666666666,\"#ed7953\"],[0.7777777777777778,\"#fb9f3a\"],[0.8888888888888888,\"#fdca26\"],[1.0,\"#f0f921\"]],\"type\":\"histogram2d\"}],\"histogram2dcontour\":[{\"colorbar\":{\"outlinewidth\":0,\"ticks\":\"\"},\"colorscale\":[[0.0,\"#0d0887\"],[0.1111111111111111,\"#46039f\"],[0.2222222222222222,\"#7201a8\"],[0.3333333333333333,\"#9c179e\"],[0.4444444444444444,\"#bd3786\"],[0.5555555555555556,\"#d8576b\"],[0.6666666666666666,\"#ed7953\"],[0.7777777777777778,\"#fb9f3a\"],[0.8888888888888888,\"#fdca26\"],[1.0,\"#f0f921\"]],\"type\":\"histogram2dcontour\"}],\"mesh3d\":[{\"colorbar\":{\"outlinewidth\":0,\"ticks\":\"\"},\"type\":\"mesh3d\"}],\"parcoords\":[{\"line\":{\"colorbar\":{\"outlinewidth\":0,\"ticks\":\"\"}},\"type\":\"parcoords\"}],\"pie\":[{\"automargin\":true,\"type\":\"pie\"}],\"scatter\":[{\"marker\":{\"colorbar\":{\"outlinewidth\":0,\"ticks\":\"\"}},\"type\":\"scatter\"}],\"scatter3d\":[{\"line\":{\"colorbar\":{\"outlinewidth\":0,\"ticks\":\"\"}},\"marker\":{\"colorbar\":{\"outlinewidth\":0,\"ticks\":\"\"}},\"type\":\"scatter3d\"}],\"scattercarpet\":[{\"marker\":{\"colorbar\":{\"outlinewidth\":0,\"ticks\":\"\"}},\"type\":\"scattercarpet\"}],\"scattergeo\":[{\"marker\":{\"colorbar\":{\"outlinewidth\":0,\"ticks\":\"\"}},\"type\":\"scattergeo\"}],\"scattergl\":[{\"marker\":{\"colorbar\":{\"outlinewidth\":0,\"ticks\":\"\"}},\"type\":\"scattergl\"}],\"scattermapbox\":[{\"marker\":{\"colorbar\":{\"outlinewidth\":0,\"ticks\":\"\"}},\"type\":\"scattermapbox\"}],\"scatterpolar\":[{\"marker\":{\"colorbar\":{\"outlinewidth\":0,\"ticks\":\"\"}},\"type\":\"scatterpolar\"}],\"scatterpolargl\":[{\"marker\":{\"colorbar\":{\"outlinewidth\":0,\"ticks\":\"\"}},\"type\":\"scatterpolargl\"}],\"scatterternary\":[{\"marker\":{\"colorbar\":{\"outlinewidth\":0,\"ticks\":\"\"}},\"type\":\"scatterternary\"}],\"surface\":[{\"colorbar\":{\"outlinewidth\":0,\"ticks\":\"\"},\"colorscale\":[[0.0,\"#0d0887\"],[0.1111111111111111,\"#46039f\"],[0.2222222222222222,\"#7201a8\"],[0.3333333333333333,\"#9c179e\"],[0.4444444444444444,\"#bd3786\"],[0.5555555555555556,\"#d8576b\"],[0.6666666666666666,\"#ed7953\"],[0.7777777777777778,\"#fb9f3a\"],[0.8888888888888888,\"#fdca26\"],[1.0,\"#f0f921\"]],\"type\":\"surface\"}],\"table\":[{\"cells\":{\"fill\":{\"color\":\"#EBF0F8\"},\"line\":{\"color\":\"white\"}},\"header\":{\"fill\":{\"color\":\"#C8D4E3\"},\"line\":{\"color\":\"white\"}},\"type\":\"table\"}]},\"layout\":{\"annotationdefaults\":{\"arrowcolor\":\"#2a3f5f\",\"arrowhead\":0,\"arrowwidth\":1},\"autotypenumbers\":\"strict\",\"coloraxis\":{\"colorbar\":{\"outlinewidth\":0,\"ticks\":\"\"}},\"colorscale\":{\"diverging\":[[0,\"#8e0152\"],[0.1,\"#c51b7d\"],[0.2,\"#de77ae\"],[0.3,\"#f1b6da\"],[0.4,\"#fde0ef\"],[0.5,\"#f7f7f7\"],[0.6,\"#e6f5d0\"],[0.7,\"#b8e186\"],[0.8,\"#7fbc41\"],[0.9,\"#4d9221\"],[1,\"#276419\"]],\"sequential\":[[0.0,\"#0d0887\"],[0.1111111111111111,\"#46039f\"],[0.2222222222222222,\"#7201a8\"],[0.3333333333333333,\"#9c179e\"],[0.4444444444444444,\"#bd3786\"],[0.5555555555555556,\"#d8576b\"],[0.6666666666666666,\"#ed7953\"],[0.7777777777777778,\"#fb9f3a\"],[0.8888888888888888,\"#fdca26\"],[1.0,\"#f0f921\"]],\"sequentialminus\":[[0.0,\"#0d0887\"],[0.1111111111111111,\"#46039f\"],[0.2222222222222222,\"#7201a8\"],[0.3333333333333333,\"#9c179e\"],[0.4444444444444444,\"#bd3786\"],[0.5555555555555556,\"#d8576b\"],[0.6666666666666666,\"#ed7953\"],[0.7777777777777778,\"#fb9f3a\"],[0.8888888888888888,\"#fdca26\"],[1.0,\"#f0f921\"]]},\"colorway\":[\"#636efa\",\"#EF553B\",\"#00cc96\",\"#ab63fa\",\"#FFA15A\",\"#19d3f3\",\"#FF6692\",\"#B6E880\",\"#FF97FF\",\"#FECB52\"],\"font\":{\"color\":\"#2a3f5f\"},\"geo\":{\"bgcolor\":\"white\",\"lakecolor\":\"white\",\"landcolor\":\"#E5ECF6\",\"showlakes\":true,\"showland\":true,\"subunitcolor\":\"white\"},\"hoverlabel\":{\"align\":\"left\"},\"hovermode\":\"closest\",\"mapbox\":{\"style\":\"light\"},\"paper_bgcolor\":\"white\",\"plot_bgcolor\":\"#E5ECF6\",\"polar\":{\"angularaxis\":{\"gridcolor\":\"white\",\"linecolor\":\"white\",\"ticks\":\"\"},\"bgcolor\":\"#E5ECF6\",\"radialaxis\":{\"gridcolor\":\"white\",\"linecolor\":\"white\",\"ticks\":\"\"}},\"scene\":{\"xaxis\":{\"backgroundcolor\":\"#E5ECF6\",\"gridcolor\":\"white\",\"gridwidth\":2,\"linecolor\":\"white\",\"showbackground\":true,\"ticks\":\"\",\"zerolinecolor\":\"white\"},\"yaxis\":{\"backgroundcolor\":\"#E5ECF6\",\"gridcolor\":\"white\",\"gridwidth\":2,\"linecolor\":\"white\",\"showbackground\":true,\"ticks\":\"\",\"zerolinecolor\":\"white\"},\"zaxis\":{\"backgroundcolor\":\"#E5ECF6\",\"gridcolor\":\"white\",\"gridwidth\":2,\"linecolor\":\"white\",\"showbackground\":true,\"ticks\":\"\",\"zerolinecolor\":\"white\"}},\"shapedefaults\":{\"line\":{\"color\":\"#2a3f5f\"}},\"ternary\":{\"aaxis\":{\"gridcolor\":\"white\",\"linecolor\":\"white\",\"ticks\":\"\"},\"baxis\":{\"gridcolor\":\"white\",\"linecolor\":\"white\",\"ticks\":\"\"},\"bgcolor\":\"#E5ECF6\",\"caxis\":{\"gridcolor\":\"white\",\"linecolor\":\"white\",\"ticks\":\"\"}},\"title\":{\"x\":0.05},\"xaxis\":{\"automargin\":true,\"gridcolor\":\"white\",\"linecolor\":\"white\",\"ticks\":\"\",\"title\":{\"standoff\":15},\"zerolinecolor\":\"white\",\"zerolinewidth\":2},\"yaxis\":{\"automargin\":true,\"gridcolor\":\"white\",\"linecolor\":\"white\",\"ticks\":\"\",\"title\":{\"standoff\":15},\"zerolinecolor\":\"white\",\"zerolinewidth\":2}}},\"xaxis\":{\"anchor\":\"y\",\"domain\":[0.0,1.0],\"title\":{\"text\":\"znak\"}},\"yaxis\":{\"anchor\":\"x\",\"domain\":[0.0,1.0],\"title\":{\"text\":\"pravd\\u011bpodobnost\"}},\"legend\":{\"title\":{\"text\":\"variable\"},\"tracegroupgap\":0},\"title\":{\"text\":\"Srovn\\u00e1n\\u00ed pravd\\u011bpodobnost\\u00ed \"},\"barmode\":\"group\"},                        {\"responsive\": true}                    ).then(function(){\n                            \nvar gd = document.getElementById('040b5cff-6b6c-442f-8534-0d5b4e1d115b');\nvar x = new MutationObserver(function (mutations, observer) {{\n        var display = window.getComputedStyle(gd).display;\n        if (!display || display === 'none') {{\n            console.log([gd, 'removed!']);\n            Plotly.purge(gd);\n            observer.disconnect();\n        }}\n}});\n\n// Listen for the removal of the full notebook cells\nvar notebookContainer = gd.closest('#notebook-container');\nif (notebookContainer) {{\n    x.observe(notebookContainer, {childList: true});\n}}\n\n// Listen for the clearing of the current output cell\nvar outputEl = gd.closest('.output');\nif (outputEl) {{\n    x.observe(outputEl, {childList: true});\n}}\n\n                        })                };                            </script>        </div>\n</body>\n</html>"
     },
     "metadata": {},
     "output_type": "display_data"
    }
   ]
  },
  {
   "cell_type": "markdown",
   "source": "Jak je vidět z grafu, sloupce pro oba texty jsou s menšími rozdíly velmi podobné. Rozhodli jsme se proto tedy spočíst korelaci mezi pravděpodobnostmi jednotlivých znaků.",
   "metadata": {
    "cell_id": "147311ae-a022-478e-991a-228cec637ec0",
    "tags": [],
    "deepnote_app_coordinates": {
     "x": 0,
     "y": 258,
     "w": 12,
     "h": 5
    },
    "deepnote_cell_type": "markdown"
   }
  },
  {
   "cell_type": "markdown",
   "source": "#### Korelace pravděpodobností",
   "metadata": {
    "cell_id": "00014-6e5139e4-b8e7-4bfa-9957-832a9f974fa5",
    "deepnote_app_coordinates": {
     "x": 0,
     "y": 78,
     "w": 12,
     "h": 5
    },
    "deepnote_cell_type": "markdown"
   }
  },
  {
   "cell_type": "code",
   "metadata": {
    "cell_id": "00015-5de81a38-5f23-45d4-857e-a1fbefe86044",
    "deepnote_to_be_reexecuted": false,
    "source_hash": "3c2f34a7",
    "execution_start": 1646064212526,
    "execution_millis": 26,
    "deepnote_app_coordinates": {
     "x": 0,
     "y": 84,
     "w": 12,
     "h": 5
    },
    "deepnote_cell_type": "code"
   },
   "source": "df_first[['freq']].join(df_second[['freq']], lsuffix='_f', rsuffix='_s').corr().iloc[1, 0]",
   "execution_count": 10,
   "outputs": [
    {
     "output_type": "execute_result",
     "execution_count": 10,
     "data": {
      "text/plain": "0.9945439587726614"
     },
     "metadata": {}
    }
   ]
  },
  {
   "cell_type": "markdown",
   "source": "Jak je vidět, tak pravděpodobnosti výskytů jednotlivých znaků v techtech je silně korelovaná.",
   "metadata": {
    "cell_id": "00016-246e66b7-dd91-4bcd-888e-075e22f1db51",
    "deepnote_app_coordinates": {
     "x": 0,
     "y": 90,
     "w": 12,
     "h": 5
    },
    "deepnote_cell_type": "markdown"
   }
  },
  {
   "cell_type": "markdown",
   "source": "## Entropie\n\nDalším úkolem bylo spočítat entropii pro jednotlivé texty.",
   "metadata": {
    "cell_id": "00017-64c4807f-5025-44ff-bcd2-6bf42987cceb",
    "deepnote_app_coordinates": {
     "x": 0,
     "y": 96,
     "w": 12,
     "h": 5
    },
    "deepnote_cell_type": "markdown"
   }
  },
  {
   "cell_type": "markdown",
   "source": "Entropie se počítá jakožto:\n\n$$ H(x) = -\\sum_{i=1}^n p(x_i) \\log_2 p(x_i),$$\n\nkde  $p_i$ značí pravděpodobnost znaku $i$.",
   "metadata": {
    "cell_id": "00018-904b81de-4d85-445f-8e65-8ddddd6e19bd",
    "deepnote_app_coordinates": {
     "x": 0,
     "y": 102,
     "w": 12,
     "h": 5
    },
    "deepnote_cell_type": "markdown"
   }
  },
  {
   "cell_type": "code",
   "metadata": {
    "cell_id": "00019-700a52e1-31ca-4035-acbf-b13db3ea1451",
    "deepnote_to_be_reexecuted": false,
    "source_hash": "27d5a095",
    "execution_start": 1646064212556,
    "execution_millis": 10,
    "deepnote_app_coordinates": {
     "x": 0,
     "y": 108,
     "w": 12,
     "h": 5
    },
    "deepnote_cell_type": "code"
   },
   "source": "def entropy(p):\n    return - (p* p.apply(np.log2)).sum()",
   "execution_count": 11,
   "outputs": []
  },
  {
   "cell_type": "code",
   "metadata": {
    "cell_id": "00020-8f18fc35-915c-490e-b53e-cbee411d90d9",
    "deepnote_to_be_reexecuted": false,
    "source_hash": "6c11206a",
    "execution_start": 1646064212576,
    "execution_millis": 18,
    "deepnote_app_coordinates": {
     "x": 0,
     "y": 114,
     "w": 12,
     "h": 5
    },
    "deepnote_cell_type": "code"
   },
   "source": "print(f'Entropie prvního textu: {entropy(df_first[\"freq\"])}')",
   "execution_count": 12,
   "outputs": [
    {
     "name": "stdout",
     "text": "Entropie prvního textu: 4.094689728708522\n",
     "output_type": "stream"
    }
   ]
  },
  {
   "cell_type": "code",
   "metadata": {
    "cell_id": "00021-c48ed4c9-7a2a-49cd-84e9-901b5f2dd45f",
    "deepnote_to_be_reexecuted": false,
    "source_hash": "b758a3ca",
    "execution_start": 1646064212606,
    "execution_millis": 14,
    "deepnote_app_coordinates": {
     "x": 0,
     "y": 120,
     "w": 12,
     "h": 5
    },
    "deepnote_cell_type": "code"
   },
   "source": "print(f'Entropie druhého textu: {entropy(df_second[\"freq\"])}')",
   "execution_count": 13,
   "outputs": [
    {
     "name": "stdout",
     "text": "Entropie druhého textu: 4.078928812189477\n",
     "output_type": "stream"
    }
   ]
  },
  {
   "cell_type": "markdown",
   "source": "Z hodnot je vidět, že znaky v prvním textu nesou větší míru informace, avšak k rozdílu dochází až v řádu setin.",
   "metadata": {
    "cell_id": "b2296713-8e24-4e7f-bd3c-d517c96c4fd4",
    "tags": [],
    "deepnote_cell_type": "markdown"
   }
  },
  {
   "cell_type": "markdown",
   "source": "## Optimální instantní binární kód \n",
   "metadata": {
    "cell_id": "0649a10f-6eca-4959-8344-8d7db73b7794",
    "tags": [],
    "deepnote_cell_type": "markdown"
   }
  },
  {
   "cell_type": "markdown",
   "source": "Dalším úkolem vylo vygenerovat optimální instantní binární kód pro první text. \n\nZ definice víme, že Huffmanovo kódóvání vyprodukuje optimální binární kód pro předem zadaný text.\n\nHuffmanovo kódování funguje na principu hladového algoritmu, kde je každému znaku přiřazen jeden vrchol v grafu. Následně algoritmus slučuje $d$ nejméně pravděpodobných hodnot pod nový vrchol s pravděpodobností rovnou součtu pravděpodobností úzlů a každé hraně přiřadí znakem z $D$-nární abecedy. Takto pokračuje, dokud mu nezůstane pouze jeden vrchol - kořen $d$-nárního stromu, na základě kterého můžeme jednotlivé znaky kódovat. \n\nTímto dojde k efektivnímu rozložení délky kódových slov tak, že málo pravděpodobnéjším znakům udou odpovídat delší kódová slova a těm pravděpodobnějším kratší.\n",
   "metadata": {
    "cell_id": "00023-6a4963e9-bd8c-4058-8f46-1925162a5293",
    "deepnote_app_coordinates": {
     "x": 0,
     "y": 132,
     "w": 12,
     "h": 5
    },
    "deepnote_cell_type": "markdown"
   }
  },
  {
   "cell_type": "code",
   "metadata": {
    "cell_id": "00024-a4cf0252-122b-492e-aaaa-adcdc4586425",
    "deepnote_to_be_reexecuted": false,
    "source_hash": "3a89338b",
    "execution_start": 1646064212672,
    "execution_millis": 17544,
    "deepnote_app_coordinates": {
     "x": 0,
     "y": 138,
     "w": 12,
     "h": 5
    },
    "deepnote_cell_type": "code"
   },
   "source": "class Node:\n    '''\n    Pomocná třída pro reprezentaci kódovacího stromu\n    '''\n    def __init__(self, value, frequency):\n        self.left = None\n        self.right = None\n        self.value = value\n        self.frequency = frequency\n\n    @property\n    def is_leaf(self):\n        return self.right is None and self.left is None\n\n    def __repr__(self):\n        return f'<\\'{self.value}\\', p={self.frequency}>'",
   "execution_count": 14,
   "outputs": []
  },
  {
   "cell_type": "code",
   "metadata": {
    "cell_id": "00025-e1b579f0-889f-4e29-b4b8-3b9386c570cc",
    "deepnote_to_be_reexecuted": false,
    "source_hash": "19bbb5e0",
    "execution_start": 1646064212673,
    "execution_millis": 2589712,
    "deepnote_app_coordinates": {
     "x": 0,
     "y": 144,
     "w": 12,
     "h": 5
    },
    "deepnote_cell_type": "code"
   },
   "source": "def huffman(freq):\n    '''\n    Huffmanův kód sestaví dekódovací strom a z něj kódovací tabulku\n\n    parametr: slovník k=znak, v=pravdepodobnost\n    '''\n    nodes = [Node(char, freq) for (char, freq) in freq.iteritems()]  # vytvoří listy pro jednotlivé znaky\n    while len(nodes) > 1: # hladově spojuje 2 vrcholy\n        nodes = sorted(nodes, key=lambda x: x.frequency, reverse=False)\n        x, y = nodes[:2]\n        new_node = Node('', x.frequency + y.frequency)\n        new_node.left = x\n        new_node.right = y\n        nodes = nodes[2:] + [new_node]\n\n    def C(code, direction): return f'{code}{int(direction)}'\n    root = nodes[0]\n\n    def get_table(root, code):\n\n        if root.is_leaf:\n            return {root.value: code}\n        \n        l = get_table(root.left, C(code, False))\n        r = get_table(root.right, C(code, True))\n        return l | r\n\n    return root, get_table(root, '')",
   "execution_count": 15,
   "outputs": []
  },
  {
   "cell_type": "code",
   "metadata": {
    "cell_id": "00026-933e5900-e955-4411-af1b-9795f84bbb8b",
    "deepnote_to_be_reexecuted": false,
    "source_hash": "e948b5e3",
    "execution_start": 1646064212709,
    "execution_millis": 2589711,
    "deepnote_app_coordinates": {
     "x": 0,
     "y": 150,
     "w": 12,
     "h": 5
    },
    "deepnote_cell_type": "code"
   },
   "source": "root, table = huffman(df_first.freq)",
   "execution_count": 16,
   "outputs": []
  },
  {
   "cell_type": "markdown",
   "source": "## Optimální binární instantní kód ",
   "metadata": {
    "cell_id": "00027-981465bb-f995-41bd-a62e-c2fd1636f446",
    "deepnote_app_coordinates": {
     "x": 0,
     "y": 156,
     "w": 12,
     "h": 5
    },
    "deepnote_cell_type": "markdown"
   }
  },
  {
   "cell_type": "markdown",
   "source": "Výše zmíněným algoritmem jsme dostali následující kód.",
   "metadata": {
    "cell_id": "14bbf2d5-3e81-4102-ab5b-a45d14b12d2d",
    "tags": [],
    "deepnote_cell_type": "markdown"
   }
  },
  {
   "cell_type": "code",
   "metadata": {
    "cell_id": "ebf6c5cc-1edc-4caa-8b85-4cca86674e71",
    "tags": [],
    "deepnote_to_be_reexecuted": false,
    "source_hash": "23fbce35",
    "execution_start": 1646064212710,
    "execution_millis": 3,
    "deepnote_cell_type": "code"
   },
   "source": "_table = pd.DataFrame(columns=table.keys(), data=[table.values()], index=[0]).T\n_table.index = _table.index.rename('Znak')\n_table.columns = ['binární kód'] \ndisplay(HTML(_table.to_html()))",
   "execution_count": 17,
   "outputs": [
    {
     "data": {
      "text/plain": "<IPython.core.display.HTML object>",
      "text/html": "<table border=\"1\" class=\"dataframe\">\n  <thead>\n    <tr style=\"text-align: right;\">\n      <th></th>\n      <th>binární kód</th>\n    </tr>\n    <tr>\n      <th>Znak</th>\n      <th></th>\n    </tr>\n  </thead>\n  <tbody>\n    <tr>\n      <th>i</th>\n      <td>0000</td>\n    </tr>\n    <tr>\n      <th>g</th>\n      <td>00010</td>\n    </tr>\n    <tr>\n      <th>u</th>\n      <td>00011</td>\n    </tr>\n    <tr>\n      <th>d</th>\n      <td>0010</td>\n    </tr>\n    <tr>\n      <th>h</th>\n      <td>0011</td>\n    </tr>\n    <tr>\n      <th>e</th>\n      <td>010</td>\n    </tr>\n    <tr>\n      <th>r</th>\n      <td>0110</td>\n    </tr>\n    <tr>\n      <th>n</th>\n      <td>0111</td>\n    </tr>\n    <tr>\n      <th>y</th>\n      <td>100000</td>\n    </tr>\n    <tr>\n      <th>p</th>\n      <td>100001</td>\n    </tr>\n    <tr>\n      <th>b</th>\n      <td>100010</td>\n    </tr>\n    <tr>\n      <th>c</th>\n      <td>100011</td>\n    </tr>\n    <tr>\n      <th>o</th>\n      <td>1001</td>\n    </tr>\n    <tr>\n      <th>t</th>\n      <td>1010</td>\n    </tr>\n    <tr>\n      <th>a</th>\n      <td>1011</td>\n    </tr>\n    <tr>\n      <th>m</th>\n      <td>110000</td>\n    </tr>\n    <tr>\n      <th>k</th>\n      <td>1100010</td>\n    </tr>\n    <tr>\n      <th>z</th>\n      <td>1100011000</td>\n    </tr>\n    <tr>\n      <th>x</th>\n      <td>11000110010</td>\n    </tr>\n    <tr>\n      <th>q</th>\n      <td>11000110011</td>\n    </tr>\n    <tr>\n      <th>j</th>\n      <td>110001101</td>\n    </tr>\n    <tr>\n      <th>v</th>\n      <td>11000111</td>\n    </tr>\n    <tr>\n      <th>l</th>\n      <td>11001</td>\n    </tr>\n    <tr>\n      <th>w</th>\n      <td>110100</td>\n    </tr>\n    <tr>\n      <th>f</th>\n      <td>110101</td>\n    </tr>\n    <tr>\n      <th>s</th>\n      <td>11011</td>\n    </tr>\n    <tr>\n      <th></th>\n      <td>111</td>\n    </tr>\n  </tbody>\n</table>"
     },
     "metadata": {},
     "output_type": "display_data"
    }
   ]
  },
  {
   "cell_type": "markdown",
   "source": "Z tabulky je vidět, že četnější znaky mají opravdu kratší kódová slova (a obráceně). \n\nJenom pro zkouškua demonstraci jsme zakódovali a následně dekódovali zřetězené unikátní znaky z prvnvího textu.",
   "metadata": {
    "cell_id": "72f59532-de60-4d25-8ff4-e4520fed7457",
    "tags": [],
    "deepnote_cell_type": "markdown"
   }
  },
  {
   "cell_type": "code",
   "metadata": {
    "cell_id": "00029-183fb3f7-9ea0-4d43-8a85-b3ef9ce36567",
    "deepnote_to_be_reexecuted": false,
    "source_hash": "fe85294f",
    "execution_start": 1646064212712,
    "execution_millis": 2589701,
    "deepnote_app_coordinates": {
     "x": 0,
     "y": 168,
     "w": 12,
     "h": 5
    },
    "deepnote_cell_type": "code"
   },
   "source": "def encode(code, string):\n    return ''.join([code[char] for char in string])",
   "execution_count": 18,
   "outputs": []
  },
  {
   "cell_type": "code",
   "metadata": {
    "cell_id": "00030-ec527760-2359-45bd-bd2b-d4255e462c1b",
    "deepnote_to_be_reexecuted": false,
    "source_hash": "8a9692d6",
    "execution_start": 1646064212764,
    "execution_millis": 2589753,
    "deepnote_app_coordinates": {
     "x": 0,
     "y": 174,
     "w": 12,
     "h": 5
    },
    "deepnote_cell_type": "code"
   },
   "source": "def decode(node, code):\n    if not code:\n        return node.value\n\n    if node.is_leaf:\n        rest = decode(root, code) if code else ''\n        return node.value + rest\n\n    return decode(node.right if code[0] == '1' else node.left, code[1:])",
   "execution_count": 19,
   "outputs": []
  },
  {
   "cell_type": "code",
   "metadata": {
    "cell_id": "00031-bba1f772-fd1e-469b-9aa6-c33eb41fca82",
    "deepnote_to_be_reexecuted": false,
    "source_hash": "f17870ed",
    "execution_start": 1646064212765,
    "execution_millis": 2589752,
    "deepnote_app_coordinates": {
     "x": 0,
     "y": 180,
     "w": 12,
     "h": 5
    },
    "deepnote_cell_type": "code"
   },
   "source": "encode(table, ''.join(df_first.index))",
   "execution_count": 20,
   "outputs": [
    {
     "output_type": "execute_result",
     "execution_count": 20,
     "data": {
      "text/plain": "'111010101110101001011101100011001000001101111001000110001011010111010011000010001110001010000110000011000101100011111000110111000110011110001100011000110010'"
     },
     "metadata": {}
    }
   ]
  },
  {
   "cell_type": "code",
   "metadata": {
    "cell_id": "00032-79d31095-f7ea-4be1-b55e-af61c09cc9ab",
    "deepnote_to_be_reexecuted": false,
    "source_hash": "86dcfc69",
    "execution_start": 1646064212808,
    "execution_millis": 2589757,
    "deepnote_app_coordinates": {
     "x": 0,
     "y": 186,
     "w": 12,
     "h": 5
    },
    "deepnote_cell_type": "code"
   },
   "source": "decode(root, '111010101110101001011101100011001000001101111001000110001011010111010011000010001110001010000110000011000101100011111000110111000110011110001100011000110010')",
   "execution_count": 21,
   "outputs": [
    {
     "output_type": "execute_result",
     "execution_count": 21,
     "data": {
      "text/plain": "' eatonrhdislugfwmcbpykvjqzx'"
     },
     "metadata": {}
    }
   ]
  },
  {
   "cell_type": "markdown",
   "source": "Je vidět, že opravdu funguje.",
   "metadata": {
    "cell_id": "946e6aeb-bf23-425c-9887-6239b3fa9843",
    "tags": [],
    "deepnote_cell_type": "markdown"
   }
  },
  {
   "cell_type": "markdown",
   "source": "# Střední délka kódu",
   "metadata": {
    "cell_id": "00033-c9ee2f12-552e-449f-a51a-cfcedeaf2d66",
    "deepnote_app_coordinates": {
     "x": 0,
     "y": 192,
     "w": 12,
     "h": 5
    },
    "deepnote_cell_type": "markdown"
   }
  },
  {
   "cell_type": "markdown",
   "source": "Střední délku kódu spočítáme jako\n\n$$ L(C) = \\sum_{i=1}^n p(x_i) l(x_i)$$\n \nkde $ p(x_i)$ je pravděpodobnost daného znaku a $l(x_i)$ je délka kódového slova.",
   "metadata": {
    "cell_id": "00034-0d62d8fd-b271-41af-860d-4ed524304370",
    "deepnote_app_coordinates": {
     "x": 0,
     "y": 198,
     "w": 12,
     "h": 5
    },
    "deepnote_cell_type": "markdown"
   }
  },
  {
   "cell_type": "code",
   "metadata": {
    "cell_id": "00035-95d58912-e91a-4b39-96bb-75fde047ca60",
    "deepnote_to_be_reexecuted": false,
    "source_hash": "284165bb",
    "execution_start": 1646064212809,
    "execution_millis": 2589744,
    "deepnote_app_coordinates": {
     "x": 0,
     "y": 264,
     "w": 12,
     "h": 5
    },
    "deepnote_cell_type": "code"
   },
   "source": "def mean_length(table, freq):\n    return sum(p * len(table[i]) for i, p in freq.iteritems())",
   "execution_count": 22,
   "outputs": []
  },
  {
   "cell_type": "code",
   "metadata": {
    "cell_id": "00036-d18ecafa-3c5a-48d8-b5e9-436cd0eacc80",
    "deepnote_to_be_reexecuted": false,
    "source_hash": "72c7c91e",
    "execution_start": 1646064212810,
    "execution_millis": 1,
    "deepnote_app_coordinates": {
     "x": 0,
     "y": 204,
     "w": 12,
     "h": 5
    },
    "deepnote_cell_type": "code"
   },
   "source": "l_f = mean_length(table, df_first.freq)\nprint(f'Střední délka kódu C pro první text: {l_f}')",
   "execution_count": 23,
   "outputs": [
    {
     "name": "stdout",
     "text": "Střední délka kódu C pro první text: 4.137503871167543\n",
     "output_type": "stream"
    }
   ]
  },
  {
   "cell_type": "code",
   "metadata": {
    "cell_id": "00037-5cc22995-13ed-4c38-869b-4a70a212ea6b",
    "deepnote_to_be_reexecuted": false,
    "source_hash": "a94f9ae4",
    "execution_start": 1646064212872,
    "execution_millis": 985665,
    "deepnote_app_coordinates": {
     "x": 0,
     "y": 210,
     "w": 12,
     "h": 5
    },
    "deepnote_cell_type": "code"
   },
   "source": "l_s = mean_length(table, df_second.freq)\nprint(f'Střední délka kódu C pro druhý text: {l_s}')",
   "execution_count": 24,
   "outputs": [
    {
     "name": "stdout",
     "text": "Střední délka kódu C pro druhý text: 4.1385767790262165\n",
     "output_type": "stream"
    }
   ]
  },
  {
   "cell_type": "markdown",
   "source": "## Ověření optimality kódu",
   "metadata": {
    "cell_id": "31f63bda-6547-4b88-8f46-cd43f33745e5",
    "tags": [],
    "deepnote_cell_type": "markdown"
   }
  },
  {
   "cell_type": "markdown",
   "source": "Z definice Huffmanovo kódování produkuje optimální instantní kód. Na základě ukázky výše se to zdá být pravda.\n\nAbychom si však jisti ověříme, že: \n\n$$H_D(X) \\leq L \\le H_D(X) + 1$$\n\nkde $H_D$ značí entropii a $L$ střední délku kódového slova z textu $t_i$.\n\nVe volném slova smyslu bychom tuto podmínku mohli interpretovat tak, že v teoretickém případě nám postačí $H_D$ bitů pro zakódování textu, ale jelikož potřebujeme zachovat nesingularitu kódu, můžeme vygenerovat kód, který bude od teoretického optima horší, avšak ne více než o jeden bit. ",
   "metadata": {
    "cell_id": "00038-bfe5881c-6177-4b76-bae6-099d89f51944",
    "deepnote_app_coordinates": {
     "x": 0,
     "y": 216,
     "w": 12,
     "h": 5
    },
    "deepnote_cell_type": "markdown"
   }
  },
  {
   "cell_type": "markdown",
   "source": "Pro kontrolu jsme vykreslili interval možných řešení, který je zprava otevřený.\n\n Střední délce kódu odpovídá modrý bod. ",
   "metadata": {
    "cell_id": "c85c980b-5451-4bf4-8906-64b94a83b734",
    "tags": [],
    "deepnote_cell_type": "markdown"
   }
  },
  {
   "cell_type": "code",
   "metadata": {
    "cell_id": "00039-260f6341-98fe-4a4b-ad82-63e8540ef1b9",
    "deepnote_to_be_reexecuted": false,
    "source_hash": "e8bc1208",
    "execution_start": 1646064212873,
    "execution_millis": 1064,
    "deepnote_app_coordinates": {
     "x": 0,
     "y": 222,
     "w": 12,
     "h": 5
    },
    "deepnote_cell_type": "code"
   },
   "source": "fig = plt.figure()\nplt.plot([entropy(df_first.freq), entropy(df_first.freq)+1], [0, 0], 'r')\nplt.scatter([entropy(df_first.freq)], [0], c='r', label='$H_D({t_1})$')\nplt.scatter([entropy(df_first.freq) + 1], [0], c='g', label='$H_D({t_1}) + 1$', zorder=4)\nplt.scatter(l_f, 0, c='b', zorder=5, label='$L_1$')\nplt.legend()\nplt.title(f'Grafická reprezentace podmínky $|H_D(t_1) - L(t_1)|$ = {abs(l_f - entropy(df_first.freq)):.4f}')\n\nplt.show()",
   "execution_count": 25,
   "outputs": [
    {
     "data": {
      "text/plain": "<Figure size 432x288 with 1 Axes>",
      "image/png": "[encoded data removed]"
     },
     "metadata": {
      "needs_background": "light",
      "image/png": {
       "width": 392,
       "height": 266
      }
     },
     "output_type": "display_data"
    }
   ]
  },
  {
   "cell_type": "markdown",
   "source": "Z grafu je vidět, že daný instantní kód pro první text je opravdu optimální.",
   "metadata": {
    "cell_id": "ea5e5c9f-d1fc-46c5-b109-642c967d4fe7",
    "tags": [],
    "deepnote_app_coordinates": {
     "x": 0,
     "y": 234,
     "w": 12,
     "h": 5
    },
    "deepnote_cell_type": "markdown"
   }
  },
  {
   "cell_type": "code",
   "metadata": {
    "cell_id": "00040-544c5569-2d1c-4347-88f9-004e2b7e8661",
    "deepnote_to_be_reexecuted": false,
    "source_hash": "4d889837",
    "execution_start": 1646064213840,
    "execution_millis": 455,
    "deepnote_app_coordinates": {
     "x": 0,
     "y": 228,
     "w": 12,
     "h": 5
    },
    "deepnote_cell_type": "code"
   },
   "source": "fig = plt.figure()\nplt.plot([entropy(df_second.freq), entropy(df_second.freq)+1], [0, 0], 'r')\nplt.scatter([entropy(df_second.freq)], [0], c='r', label='$H_D({t_2})$')\nplt.scatter([entropy(df_second.freq) + 1], [0], c='g', label='$H_D({t_2}) + 1$', zorder=4)\nplt.scatter(l_s, 0, c='b', zorder=5, label='$L_2$')\nplt.legend()\nplt.title(f'Grafická reprezentace podmínky $|H_D(t_2) - L(t_2)|$ = {abs(l_s - entropy(df_second.freq)):.4f}')\n\nplt.show()",
   "execution_count": 26,
   "outputs": [
    {
     "data": {
      "text/plain": "<Figure size 432x288 with 1 Axes>",
      "image/png": "[encoded data removed]"
     },
     "metadata": {
      "needs_background": "light",
      "image/png": {
       "width": 392,
       "height": 266
      }
     },
     "output_type": "display_data"
    }
   ]
  },
  {
   "cell_type": "markdown",
   "source": "Z druhého grafu je vidět, že střední délka kódóvého slova druhého textu splňuje podmínku i pro druhý text, avšak vzdálenost od spodní hranice, tedy entropie textu je v tomto případě větší, tudiž je vzdálenější od teoretického optima větší, než pro první text.",
   "metadata": {
    "cell_id": "6400b7b7-5ef3-4a2f-a45c-6735c63b8e28",
    "tags": [],
    "deepnote_app_coordinates": {
     "x": 0,
     "y": 240,
     "w": 12,
     "h": 5
    },
    "deepnote_cell_type": "markdown"
   }
  },
  {
   "cell_type": "markdown",
   "source": "",
   "metadata": {
    "cell_id": "9ef6fa1f-f348-4a59-97ba-a76dd9f4726a",
    "tags": [],
    "deepnote_app_coordinates": {
     "x": 0,
     "y": 246,
     "w": 12,
     "h": 5
    },
    "deepnote_cell_type": "markdown"
   }
  },
  {
   "cell_type": "markdown",
   "source": "<a style='text-decoration:none;line-height:16px;display:flex;color:#5B5B62;padding:10px;justify-content:end;' href='https://deepnote.com?utm_source=created-in-deepnote-cell&projectId=12755e79-5e62-420e-8562-383193a592cf' target=\"_blank\">\n<img alt='Created in deepnote.com' style='display:inline;max-height:16px;margin:0px;margin-right:7.5px;' src='data:image/svg+xml;base64,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' > </img>\nCreated in <span style='font-weight:600;margin-left:4px;'>Deepnote</span></a>",
   "metadata": {
    "tags": [],
    "created_in_deepnote_cell": true,
    "deepnote_cell_type": "markdown"
   }
  }
 ],
 "nbformat": 4,
 "nbformat_minor": 5,
 "metadata": {
  "kernelspec": {
   "display_name": "Python 3 (ipykernel)",
   "language": "python",
   "name": "python3"
  },
  "language_info": {
   "codemirror_mode": {
    "name": "ipython",
    "version": 3
   },
   "file_extension": ".py",
   "mimetype": "text/x-python",
   "name": "python",
   "nbconvert_exporter": "python",
   "pygments_lexer": "ipython3",
   "version": "3.9.7"
  },
  "toc": {
   "base_numbering": 1,
   "nav_menu": {},
   "number_sections": false,
   "sideBar": true,
   "skip_h1_title": false,
   "title_cell": "Table of Contents",
   "title_sidebar": "Contents",
   "toc_cell": false,
   "toc_position": {},
   "toc_section_display": true,
   "toc_window_display": false
  },
  "deepnote_notebook_id": "3581ce44-7d69-43b5-8e51-61547d88ac77",
  "deepnote": {},
  "deepnote_app_layout": "article",
  "deepnote_execution_queue": []
 }
}